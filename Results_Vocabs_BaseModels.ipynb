{
 "cells": [
  {
   "cell_type": "code",
   "execution_count": 2,
   "metadata": {},
   "outputs": [],
   "source": [
    "import os, re, html\n",
    "import pandas as pd\n",
    "from tqdm import tqdm"
   ]
  },
  {
   "cell_type": "code",
   "execution_count": 3,
   "metadata": {},
   "outputs": [],
   "source": [
    "company_filepath = os.path.join('C:\\DATA\\ComBERT\\data', 'company_info_sec_cik_mapper_12057_20220802.csv')"
   ]
  },
  {
   "cell_type": "code",
   "execution_count": 4,
   "metadata": {},
   "outputs": [
    {
     "data": {
      "text/html": [
       "<div>\n",
       "<style scoped>\n",
       "    .dataframe tbody tr th:only-of-type {\n",
       "        vertical-align: middle;\n",
       "    }\n",
       "\n",
       "    .dataframe tbody tr th {\n",
       "        vertical-align: top;\n",
       "    }\n",
       "\n",
       "    .dataframe thead th {\n",
       "        text-align: right;\n",
       "    }\n",
       "</style>\n",
       "<table border=\"1\" class=\"dataframe\">\n",
       "  <thead>\n",
       "    <tr style=\"text-align: right;\">\n",
       "      <th></th>\n",
       "      <th>CIK</th>\n",
       "      <th>Ticker</th>\n",
       "      <th>Name</th>\n",
       "      <th>Exchange</th>\n",
       "    </tr>\n",
       "  </thead>\n",
       "  <tbody>\n",
       "    <tr>\n",
       "      <th>0</th>\n",
       "      <td>1750</td>\n",
       "      <td>AIR</td>\n",
       "      <td>Aar Corp</td>\n",
       "      <td>NYSE</td>\n",
       "    </tr>\n",
       "    <tr>\n",
       "      <th>1</th>\n",
       "      <td>1800</td>\n",
       "      <td>ABT</td>\n",
       "      <td>Abbott Laboratories</td>\n",
       "      <td>NYSE</td>\n",
       "    </tr>\n",
       "    <tr>\n",
       "      <th>2</th>\n",
       "      <td>1961</td>\n",
       "      <td>WDDD</td>\n",
       "      <td>Worlds Inc</td>\n",
       "      <td>OTC</td>\n",
       "    </tr>\n",
       "    <tr>\n",
       "      <th>3</th>\n",
       "      <td>2098</td>\n",
       "      <td>ACU</td>\n",
       "      <td>Acme United Corp</td>\n",
       "      <td>NYSE</td>\n",
       "    </tr>\n",
       "    <tr>\n",
       "      <th>4</th>\n",
       "      <td>2178</td>\n",
       "      <td>AE</td>\n",
       "      <td>Adams Resources &amp; Energy, Inc.</td>\n",
       "      <td>NYSE</td>\n",
       "    </tr>\n",
       "  </tbody>\n",
       "</table>\n",
       "</div>"
      ],
      "text/plain": [
       "    CIK Ticker                            Name Exchange\n",
       "0  1750    AIR                        Aar Corp     NYSE\n",
       "1  1800    ABT             Abbott Laboratories     NYSE\n",
       "2  1961   WDDD                      Worlds Inc      OTC\n",
       "3  2098    ACU                Acme United Corp     NYSE\n",
       "4  2178     AE  Adams Resources & Energy, Inc.     NYSE"
      ]
     },
     "execution_count": 4,
     "metadata": {},
     "output_type": "execute_result"
    }
   ],
   "source": [
    "company_df = pd.read_csv(company_filepath)\n",
    "company_df = company_df.astype({\"CIK\": int}, errors='raise')\n",
    "company_df.head()"
   ]
  },
  {
   "cell_type": "code",
<<<<<<< HEAD:Results_Vocab_BaseModels.ipynb
   "execution_count": 14,
=======
   "execution_count": 7,
>>>>>>> parent of 84596e7 (ESWA R1):Results_Vocabs_BaseModels.ipynb
   "metadata": {},
   "outputs": [
    {
     "data": {
      "text/plain": [
       "['amazon com inc', 'amazon com', 'amazon']"
      ]
     },
<<<<<<< HEAD:Results_Vocab_BaseModels.ipynb
     "execution_count": 14,
=======
     "execution_count": 7,
>>>>>>> parent of 84596e7 (ESWA R1):Results_Vocabs_BaseModels.ipynb
     "metadata": {},
     "output_type": "execute_result"
    }
   ],
   "source": [
    "removal_list =  \"&‘, ’, ◇, ‘, ”,  ’, ', ·, \\“, ·, △, ●,  , ■, (, ), \\\", >>, `, /, -,∼,=,ㆍ<,>, .,?, !,【,】, …, ◆,%\"\n",
    "def clean(sent):\n",
    "    sent = html.unescape(sent)\n",
    "    sent = sent.translate(str.maketrans(removal_list, ' '*len(removal_list)))\n",
    "    sent = re.sub(\"\\s+\", \" \", sent)\n",
    "    sent = sent.lower()\n",
    "    return sent\n",
    "\n",
    "def trim(sent):\n",
    "    sent = re.sub(\"\\s+\", \" \", sent)\n",
    "    sent = sent.strip()\n",
    "    return sent\n",
    "\n",
    "def subnames_of_company_name(fullname): \n",
    "    strings = fullname.split(' ')\n",
    "    subnames = [' '.join(strings[:i+1]) for i in range(len(strings))] # ['amazon', 'amazon com', 'amazon com inc' ]\n",
    "    subnames.reverse() # ['amazon com inc', 'amazon com', 'amazon']\n",
    "    subnames = [item.strip() for item in subnames if item.strip() != '']\n",
    "    return subnames\n",
    "\n",
    "def get_fullname(name):\n",
    "    return trim(clean(name)).lower()\n",
    "\n",
    "fullname = get_fullname('Amazon Com Inc')\n",
    "subnames = subnames_of_company_name(fullname)\n",
    "subnames"
   ]
  },
  {
   "cell_type": "code",
<<<<<<< HEAD:Results_Vocab_BaseModels.ipynb
   "execution_count": 15,
   "metadata": {},
   "outputs": [
    {
     "data": {
      "text/plain": [
       "['image chain group', 'image chain', 'image']"
      ]
     },
     "execution_count": 15,
     "metadata": {},
     "output_type": "execute_result"
    }
   ],
   "source": [
    "subnames_of_company_name(get_fullname('image chain group'))"
   ]
  },
  {
   "cell_type": "code",
   "execution_count": 16,
=======
   "execution_count": 8,
>>>>>>> parent of 84596e7 (ESWA R1):Results_Vocabs_BaseModels.ipynb
   "metadata": {
    "scrolled": true
   },
   "outputs": [
    {
     "name": "stdout",
     "output_type": "stream",
     "text": [
<<<<<<< HEAD:Results_Vocab_BaseModels.ipynb
      "41570 ['aar corp', 'aar', 'abbott laboratories', 'abbott', 'worlds inc', 'worlds', 'acme united corp', 'acme united', 'acme', 'adams resources energy inc']\n",
      "After deleting duplicates\n",
      "28164 ['image chain group', 'camping', 'transmedics group inc', 'invesco trust for', 'mirion technologies inc', 'adit edtech acquisition', 'petco health wellness company', 'rcf', 'electromedical technologies inc', 'norwood financial']\n"
=======
      "41203 ['aar corp', 'aar', 'abbott laboratories', 'abbott', 'worlds inc', 'worlds', 'acme united corp', 'acme united', 'acme', 'adams resources & energy, inc.']\n"
>>>>>>> parent of 84596e7 (ESWA R1):Results_Vocabs_BaseModels.ipynb
     ]
    }
   ],
   "source": [
    "subnames_for_all_companies = []\n",
<<<<<<< HEAD:Results_Vocab_BaseModels.ipynb
    "for name in company_df['Name'].values:\n",
    "    subnames_for_all_companies.extend(subnames_of_company_name(get_fullname(name)))\n",
    "\n",
    "print(len(subnames_for_all_companies), subnames_for_all_companies[:10])\n",
    "\n",
    "print('After deleting duplicates')\n",
    "subnames_for_all_companies = list(set(subnames_for_all_companies)) # unique subnames    \n",
=======
    "for fullname in company_df['Name'].values:\n",
    "    subnames_for_all_companies.extend(subnames_of_company_name(fullname.lower()))\n",
>>>>>>> parent of 84596e7 (ESWA R1):Results_Vocabs_BaseModels.ipynb
    "print(len(subnames_for_all_companies), subnames_for_all_companies[:10])"
   ]
  },
  {
   "cell_type": "markdown",
   "metadata": {},
   "source": [
    "### The number of company names in each model's vocabulary\n",
    "* Araci's FinBERT is a model post-trained on BERT, not trained from scratch; thus, its vocabulary is identical to that of BERT."
   ]
  },
  {
   "cell_type": "code",
<<<<<<< HEAD:Results_Vocab_BaseModels.ipynb
   "execution_count": 17,
=======
   "execution_count": 12,
>>>>>>> parent of 84596e7 (ESWA R1):Results_Vocabs_BaseModels.ipynb
   "metadata": {},
   "outputs": [],
   "source": [
    "def get_vocabs(filepath):\n",
    "    with open(filepath, encoding='utf8') as var:\n",
    "        lines = var.readlines()\n",
    "\n",
    "    return [item.strip() for item in lines]\n",
    "\n",
    "def intersection(lst1, lst2):\n",
    "    return list(set(lst1) & set(lst2))"
   ]
  },
  {
   "cell_type": "code",
<<<<<<< HEAD:Results_Vocab_BaseModels.ipynb
   "execution_count": 18,
=======
   "execution_count": 26,
>>>>>>> parent of 84596e7 (ESWA R1):Results_Vocabs_BaseModels.ipynb
   "metadata": {},
   "outputs": [
    {
     "name": "stdout",
     "output_type": "stream",
     "text": [
      "The total number of tokens in BERT_vocab.txt is 30522.\n",
      "The number of overlapping tokens is 1949.\n"
     ]
    }
   ],
   "source": [
    "filepath = os.path.join('vocab', 'BERT_vocab.txt')\n",
    "\n",
    "vocabs = get_vocabs(filepath)\n",
    "print('The total number of tokens in {} is {}.'.format(os.path.basename(filepath), len(vocabs)))\n",
    "\n",
    "overlap = intersection(vocabs, subnames_for_all_companies)\n",
    "print('The number of overlapping tokens is {}.'.format(len(overlap)))"
   ]
  },
  {
   "cell_type": "code",
<<<<<<< HEAD:Results_Vocab_BaseModels.ipynb
   "execution_count": 19,
=======
   "execution_count": 27,
>>>>>>> parent of 84596e7 (ESWA R1):Results_Vocabs_BaseModels.ipynb
   "metadata": {},
   "outputs": [
    {
     "name": "stdout",
     "output_type": "stream",
     "text": [
      "The total number of tokens in Yang_vocab.txt is 30873.\n",
      "The number of overlapping tokens is 1888.\n"
     ]
    }
   ],
   "source": [
    "filepath = os.path.join('vocab', 'Yang_vocab.txt')\n",
    "\n",
    "vocabs = get_vocabs(filepath)\n",
    "print('The total number of tokens in {} is {}.'.format(os.path.basename(filepath), len(vocabs)))\n",
    "\n",
    "overlap = intersection(vocabs, subnames_for_all_companies)\n",
    "print('The number of overlapping tokens is {}.'.format(len(overlap)))"
   ]
  },
  {
   "cell_type": "code",
<<<<<<< HEAD:Results_Vocab_BaseModels.ipynb
   "execution_count": 20,
=======
   "execution_count": 28,
>>>>>>> parent of 84596e7 (ESWA R1):Results_Vocabs_BaseModels.ipynb
   "metadata": {},
   "outputs": [
    {
     "name": "stdout",
     "output_type": "stream",
     "text": [
      "The total number of tokens in SECBERT_vocab.txt is 30000.\n",
      "The number of overlapping tokens is 2565.\n"
     ]
    }
   ],
   "source": [
    "filepath = os.path.join('vocab', 'SECBERT_vocab.txt')\n",
    "\n",
    "vocabs = get_vocabs(filepath)\n",
    "print('The total number of tokens in {} is {}.'.format(os.path.basename(filepath), len(vocabs)))\n",
    "\n",
    "overlap = intersection(vocabs, subnames_for_all_companies)\n",
    "print('The number of overlapping tokens is {}.'.format(len(overlap)))"
   ]
  }
 ],
 "metadata": {
  "kernelspec": {
   "display_name": "Python 3 (ipykernel)",
   "language": "python",
   "name": "python3"
  },
  "language_info": {
   "codemirror_mode": {
    "name": "ipython",
    "version": 3
   },
   "file_extension": ".py",
   "mimetype": "text/x-python",
   "name": "python",
   "nbconvert_exporter": "python",
   "pygments_lexer": "ipython3",
   "version": "3.8.5"
  }
 },
 "nbformat": 4,
 "nbformat_minor": 4
}
