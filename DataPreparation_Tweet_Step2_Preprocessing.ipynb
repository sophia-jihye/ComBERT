{
 "cells": [
  {
   "cell_type": "code",
   "execution_count": 2,
   "metadata": {},
   "outputs": [],
   "source": [
    "import pandas as pd \n",
    "import os\n",
    "from tqdm import tqdm\n",
    "tqdm.pandas()\n",
    "from datetime import datetime\n",
    "import re, html, copy\n",
    "import seaborn as sns"
   ]
  },
  {
   "cell_type": "code",
   "execution_count": 37,
   "metadata": {},
   "outputs": [],
   "source": [
    "tweet_filepath = os.path.join('C:\\DATA\\ComBERT\\data_finetuning', 'tweets_imbalanced_286399.csv')\n",
    "company_filepath = os.path.join('C:\\DATA\\ComBERT\\data', 'company_info_sec_cik_mapper_12057_20220802.csv')\n",
    "\n",
    "save_test_filepath = os.path.join('C:\\DATA\\ComBERT\\data_finetuning', 'test_10000.csv')\n",
    "save_train_filepath_format = os.path.join('C:\\DATA\\ComBERT\\data_finetuning', 'train_{}.csv')"
   ]
  },
  {
   "cell_type": "markdown",
   "metadata": {},
   "source": [
    "Dataset for classification task"
   ]
  },
  {
   "cell_type": "code",
   "execution_count": 6,
   "metadata": {
    "scrolled": true
   },
   "outputs": [
    {
     "data": {
      "text/html": [
       "<div>\n",
       "<style scoped>\n",
       "    .dataframe tbody tr th:only-of-type {\n",
       "        vertical-align: middle;\n",
       "    }\n",
       "\n",
       "    .dataframe tbody tr th {\n",
       "        vertical-align: top;\n",
       "    }\n",
       "\n",
       "    .dataframe thead th {\n",
       "        text-align: right;\n",
       "    }\n",
       "</style>\n",
       "<table border=\"1\" class=\"dataframe\">\n",
       "  <thead>\n",
       "    <tr style=\"text-align: right;\">\n",
       "      <th></th>\n",
       "      <th>raw_text</th>\n",
       "      <th>is_retweet</th>\n",
       "      <th>label</th>\n",
       "      <th>created_at</th>\n",
       "      <th>yyyymm</th>\n",
       "    </tr>\n",
       "  </thead>\n",
       "  <tbody>\n",
       "    <tr>\n",
       "      <th>0</th>\n",
       "      <td>RT @curtmelonopoly: $AUPH If price stays in th...</td>\n",
       "      <td>True</td>\n",
       "      <td>human</td>\n",
       "      <td>2017-05-18 22:00:41</td>\n",
       "      <td>201705</td>\n",
       "    </tr>\n",
       "    <tr>\n",
       "      <th>1</th>\n",
       "      <td>$WFM $SFM $UNFI$NGVC Natural GrocersI like it ...</td>\n",
       "      <td>False</td>\n",
       "      <td>human</td>\n",
       "      <td>2017-05-18 22:01:00</td>\n",
       "      <td>201705</td>\n",
       "    </tr>\n",
       "    <tr>\n",
       "      <th>2</th>\n",
       "      <td>Check out $ATHN on ChartMill at https://t.co/N...</td>\n",
       "      <td>False</td>\n",
       "      <td>human</td>\n",
       "      <td>2017-05-18 22:01:25</td>\n",
       "      <td>201705</td>\n",
       "    </tr>\n",
       "    <tr>\n",
       "      <th>3</th>\n",
       "      <td>Check out $AR on ChartMill at https://t.co/zlX...</td>\n",
       "      <td>False</td>\n",
       "      <td>human</td>\n",
       "      <td>2017-05-18 22:01:25</td>\n",
       "      <td>201705</td>\n",
       "    </tr>\n",
       "    <tr>\n",
       "      <th>4</th>\n",
       "      <td>Check out $KMX on ChartMill at https://t.co/DX...</td>\n",
       "      <td>False</td>\n",
       "      <td>human</td>\n",
       "      <td>2017-05-18 22:01:25</td>\n",
       "      <td>201705</td>\n",
       "    </tr>\n",
       "  </tbody>\n",
       "</table>\n",
       "</div>"
      ],
      "text/plain": [
       "                                            raw_text  is_retweet  label  \\\n",
       "0  RT @curtmelonopoly: $AUPH If price stays in th...        True  human   \n",
       "1  $WFM $SFM $UNFI$NGVC Natural GrocersI like it ...       False  human   \n",
       "2  Check out $ATHN on ChartMill at https://t.co/N...       False  human   \n",
       "3  Check out $AR on ChartMill at https://t.co/zlX...       False  human   \n",
       "4  Check out $KMX on ChartMill at https://t.co/DX...       False  human   \n",
       "\n",
       "            created_at  yyyymm  \n",
       "0  2017-05-18 22:00:41  201705  \n",
       "1  2017-05-18 22:01:00  201705  \n",
       "2  2017-05-18 22:01:25  201705  \n",
       "3  2017-05-18 22:01:25  201705  \n",
       "4  2017-05-18 22:01:25  201705  "
      ]
     },
     "execution_count": 6,
     "metadata": {},
     "output_type": "execute_result"
    }
   ],
   "source": [
    "df = pd.read_csv(tweet_filepath)\n",
    "df.columns = ['raw_text', *df.columns[1:]]\n",
    "df.head()"
   ]
  },
  {
   "cell_type": "markdown",
   "metadata": {},
   "source": [
    "## Preprocessing\n",
    "* RT @Account_Name: -> [RT]\n",
    "* URL -> [URL] \n",
    "* @Account_Name -> ' '\n",
    "* Ticker -> Company name (ex. $TSLA -> Tesla Inc)"
   ]
  },
  {
   "cell_type": "code",
   "execution_count": 27,
   "metadata": {},
   "outputs": [
    {
     "data": {
      "text/html": [
       "<div>\n",
       "<style scoped>\n",
       "    .dataframe tbody tr th:only-of-type {\n",
       "        vertical-align: middle;\n",
       "    }\n",
       "\n",
       "    .dataframe tbody tr th {\n",
       "        vertical-align: top;\n",
       "    }\n",
       "\n",
       "    .dataframe thead th {\n",
       "        text-align: right;\n",
       "    }\n",
       "</style>\n",
       "<table border=\"1\" class=\"dataframe\">\n",
       "  <thead>\n",
       "    <tr style=\"text-align: right;\">\n",
       "      <th></th>\n",
       "      <th>CIK</th>\n",
       "      <th>Ticker</th>\n",
       "      <th>Name</th>\n",
       "      <th>Exchange</th>\n",
       "    </tr>\n",
       "  </thead>\n",
       "  <tbody>\n",
       "    <tr>\n",
       "      <th>0</th>\n",
       "      <td>1750</td>\n",
       "      <td>air</td>\n",
       "      <td>aar corp</td>\n",
       "      <td>NYSE</td>\n",
       "    </tr>\n",
       "    <tr>\n",
       "      <th>1</th>\n",
       "      <td>1800</td>\n",
       "      <td>abt</td>\n",
       "      <td>abbott laboratories</td>\n",
       "      <td>NYSE</td>\n",
       "    </tr>\n",
       "    <tr>\n",
       "      <th>2</th>\n",
       "      <td>1961</td>\n",
       "      <td>wddd</td>\n",
       "      <td>worlds inc</td>\n",
       "      <td>OTC</td>\n",
       "    </tr>\n",
       "    <tr>\n",
       "      <th>3</th>\n",
       "      <td>2098</td>\n",
       "      <td>acu</td>\n",
       "      <td>acme united corp</td>\n",
       "      <td>NYSE</td>\n",
       "    </tr>\n",
       "    <tr>\n",
       "      <th>4</th>\n",
       "      <td>2178</td>\n",
       "      <td>ae</td>\n",
       "      <td>adams resources &amp; energy, inc.</td>\n",
       "      <td>NYSE</td>\n",
       "    </tr>\n",
       "    <tr>\n",
       "      <th>...</th>\n",
       "      <td>...</td>\n",
       "      <td>...</td>\n",
       "      <td>...</td>\n",
       "      <td>...</td>\n",
       "    </tr>\n",
       "    <tr>\n",
       "      <th>12052</th>\n",
       "      <td>1931691</td>\n",
       "      <td>mobv</td>\n",
       "      <td>mobiv acquisition corp</td>\n",
       "      <td>NaN</td>\n",
       "    </tr>\n",
       "    <tr>\n",
       "      <th>12053</th>\n",
       "      <td>1933644</td>\n",
       "      <td>mdlvy</td>\n",
       "      <td>medlive technology co., ltd./adr</td>\n",
       "      <td>NaN</td>\n",
       "    </tr>\n",
       "    <tr>\n",
       "      <th>12054</th>\n",
       "      <td>1934064</td>\n",
       "      <td>osa</td>\n",
       "      <td>laaa merger corp.</td>\n",
       "      <td>NaN</td>\n",
       "    </tr>\n",
       "    <tr>\n",
       "      <th>12055</th>\n",
       "      <td>1934945</td>\n",
       "      <td>tbmcu</td>\n",
       "      <td>trailblazer merger corp i</td>\n",
       "      <td>NaN</td>\n",
       "    </tr>\n",
       "    <tr>\n",
       "      <th>12056</th>\n",
       "      <td>1935435</td>\n",
       "      <td>ssof</td>\n",
       "      <td>sixty six oilfield services, inc.</td>\n",
       "      <td>OTC</td>\n",
       "    </tr>\n",
       "  </tbody>\n",
       "</table>\n",
       "<p>12056 rows × 4 columns</p>\n",
       "</div>"
      ],
      "text/plain": [
       "           CIK Ticker                               Name Exchange\n",
       "0         1750    air                           aar corp     NYSE\n",
       "1         1800    abt                abbott laboratories     NYSE\n",
       "2         1961   wddd                         worlds inc      OTC\n",
       "3         2098    acu                   acme united corp     NYSE\n",
       "4         2178     ae     adams resources & energy, inc.     NYSE\n",
       "...        ...    ...                                ...      ...\n",
       "12052  1931691   mobv             mobiv acquisition corp      NaN\n",
       "12053  1933644  mdlvy   medlive technology co., ltd./adr      NaN\n",
       "12054  1934064    osa                  laaa merger corp.      NaN\n",
       "12055  1934945  tbmcu          trailblazer merger corp i      NaN\n",
       "12056  1935435   ssof  sixty six oilfield services, inc.      OTC\n",
       "\n",
       "[12056 rows x 4 columns]"
      ]
     },
     "execution_count": 27,
     "metadata": {},
     "output_type": "execute_result"
    }
   ],
   "source": [
    "removal_list =  \"‘, ’, ◇, ‘, ”,  ’, ', ·, \\“, ·, △, ●,  , ■, (, ), \\\", >>, `, /, -,∼,=,ㆍ<,>, .,?, !,【,】, …, ◆,%\"\n",
    "def preprocess_clean(sent):\n",
    "    sent = sent.translate(str.maketrans(removal_list, ' '*len(removal_list)))\n",
    "    sent = re.sub(\"\\s+\", \" \", sent)\n",
    "    sent = sent.lower()\n",
    "    return sent\n",
    "\n",
    "convert_ticker_to_name = dict(zip('$'+company_df.Ticker, company_df.Name))\n",
    "def convert_ticker_with_cashtag_to_name(text):\n",
    "    return re.sub(r'\\$([a-zA-Z.-]+)', lambda m: convert_ticker_to_name.setdefault(m.group(0), m.group(0)), text.lower())\n",
    "\n",
    "def preprocess_trim(sent):\n",
    "    sent = re.sub(\"\\s+\", \" \", sent)\n",
    "    sent = sent.strip()\n",
    "    return sent\n",
    "\n",
    "rt_pattern = re.compile('RT @[a-zA-Z]*:')\n",
    "url_pattern = re.compile(\"(ftp|http|https)?://(?:[a-zA-Z]|[0-9]|[$-_@.&+]|[!*\\(\\),]|(?:%[0-9a-fA-F][0-9a-fA-F]))+\")\n",
    "account_pattern = re.compile('@[a-zA-Z1-9]*')\n",
    "multiple_spaces_pattern = re.compile(' +', re.UNICODE)\n",
    "def preprocess(text):\n",
    "    text = re.sub(rt_pattern, '[RT]', text)\n",
    "    text = re.sub(url_pattern, '[URL]', text)\n",
    "    text = re.sub(account_pattern, ' ', text)\n",
    "    text = re.sub(multiple_spaces_pattern, ' ', text)\n",
    "    \n",
    "    text = preprocess_clean(text)\n",
    "    text = convert_ticker_with_cashtag_to_name(text)\n",
    "    text = preprocess_trim(text)\n",
    "    \n",
    "    return text\n",
    "\n",
    "company_df = pd.read_csv(company_filepath)\n",
    "company_df.dropna(subset=['Ticker', 'Name'], inplace=True)\n",
    "company_df['Ticker'] = company_df['Ticker'].apply(lambda x: x.lower())\n",
    "company_df['Name'] = company_df['Name'].apply(lambda x: x.lower())\n",
    "company_df"
   ]
  },
  {
   "cell_type": "code",
   "execution_count": 28,
   "metadata": {},
   "outputs": [
    {
     "name": "stderr",
     "output_type": "stream",
     "text": [
      "100%|████████████████████████████████████████████████████████████████████████| 286399/286399 [00:36<00:00, 7828.63it/s]\n"
     ]
    },
    {
     "data": {
      "text/html": [
       "<div>\n",
       "<style scoped>\n",
       "    .dataframe tbody tr th:only-of-type {\n",
       "        vertical-align: middle;\n",
       "    }\n",
       "\n",
       "    .dataframe tbody tr th {\n",
       "        vertical-align: top;\n",
       "    }\n",
       "\n",
       "    .dataframe thead th {\n",
       "        text-align: right;\n",
       "    }\n",
       "</style>\n",
       "<table border=\"1\" class=\"dataframe\">\n",
       "  <thead>\n",
       "    <tr style=\"text-align: right;\">\n",
       "      <th></th>\n",
       "      <th>raw_text</th>\n",
       "      <th>is_retweet</th>\n",
       "      <th>label</th>\n",
       "      <th>created_at</th>\n",
       "      <th>yyyymm</th>\n",
       "      <th>text</th>\n",
       "    </tr>\n",
       "  </thead>\n",
       "  <tbody>\n",
       "    <tr>\n",
       "      <th>0</th>\n",
       "      <td>RT @curtmelonopoly: $AUPH If price stays in th...</td>\n",
       "      <td>True</td>\n",
       "      <td>human</td>\n",
       "      <td>2017-05-18 22:00:41</td>\n",
       "      <td>201705</td>\n",
       "      <td>[rt] aurinia pharmaceuticals inc. if price sta...</td>\n",
       "    </tr>\n",
       "    <tr>\n",
       "      <th>1</th>\n",
       "      <td>$WFM $SFM $UNFI$NGVC Natural GrocersI like it ...</td>\n",
       "      <td>False</td>\n",
       "      <td>human</td>\n",
       "      <td>2017-05-18 22:01:00</td>\n",
       "      <td>201705</td>\n",
       "      <td>$wfm sprouts farmers market, inc. united natur...</td>\n",
       "    </tr>\n",
       "    <tr>\n",
       "      <th>2</th>\n",
       "      <td>Check out $ATHN on ChartMill at https://t.co/N...</td>\n",
       "      <td>False</td>\n",
       "      <td>human</td>\n",
       "      <td>2017-05-18 22:01:25</td>\n",
       "      <td>201705</td>\n",
       "      <td>check out $athn on chartmill at [url] #digital...</td>\n",
       "    </tr>\n",
       "    <tr>\n",
       "      <th>3</th>\n",
       "      <td>Check out $AR on ChartMill at https://t.co/zlX...</td>\n",
       "      <td>False</td>\n",
       "      <td>human</td>\n",
       "      <td>2017-05-18 22:01:25</td>\n",
       "      <td>201705</td>\n",
       "      <td>check out antero resources corp on chartmill a...</td>\n",
       "    </tr>\n",
       "    <tr>\n",
       "      <th>4</th>\n",
       "      <td>Check out $KMX on ChartMill at https://t.co/DX...</td>\n",
       "      <td>False</td>\n",
       "      <td>human</td>\n",
       "      <td>2017-05-18 22:01:25</td>\n",
       "      <td>201705</td>\n",
       "      <td>check out carmax inc on chartmill at [url] #di...</td>\n",
       "    </tr>\n",
       "  </tbody>\n",
       "</table>\n",
       "</div>"
      ],
      "text/plain": [
       "                                            raw_text  is_retweet  label  \\\n",
       "0  RT @curtmelonopoly: $AUPH If price stays in th...        True  human   \n",
       "1  $WFM $SFM $UNFI$NGVC Natural GrocersI like it ...       False  human   \n",
       "2  Check out $ATHN on ChartMill at https://t.co/N...       False  human   \n",
       "3  Check out $AR on ChartMill at https://t.co/zlX...       False  human   \n",
       "4  Check out $KMX on ChartMill at https://t.co/DX...       False  human   \n",
       "\n",
       "            created_at  yyyymm  \\\n",
       "0  2017-05-18 22:00:41  201705   \n",
       "1  2017-05-18 22:01:00  201705   \n",
       "2  2017-05-18 22:01:25  201705   \n",
       "3  2017-05-18 22:01:25  201705   \n",
       "4  2017-05-18 22:01:25  201705   \n",
       "\n",
       "                                                text  \n",
       "0  [rt] aurinia pharmaceuticals inc. if price sta...  \n",
       "1  $wfm sprouts farmers market, inc. united natur...  \n",
       "2  check out $athn on chartmill at [url] #digital...  \n",
       "3  check out antero resources corp on chartmill a...  \n",
       "4  check out carmax inc on chartmill at [url] #di...  "
      ]
     },
     "execution_count": 28,
     "metadata": {},
     "output_type": "execute_result"
    }
   ],
   "source": [
    "df['text'] = df['raw_text'].progress_apply(lambda x: preprocess(x))\n",
    "df.head()"
   ]
  },
  {
   "cell_type": "markdown",
   "metadata": {},
   "source": [
    "Preprocessing Example"
   ]
  },
  {
   "cell_type": "code",
   "execution_count": 29,
   "metadata": {},
   "outputs": [
    {
     "name": "stdout",
     "output_type": "stream",
     "text": [
      "$AAPL Can do this for a while w/o need for reinventing the wheel. They got the system of interconnected products/services @IsaacCheatham88\n",
      "=> apple inc. can do this for a while w o need for reinventing the wheel they got the system of interconnected products services\n",
      "\n",
      "RT @MindMakesMatter: $NVDA daily updatedDamn thing hasn't even blown yet!Recheck those last 2 quarters. if you wanna https://t.co/rIKVq…\n",
      "=> [rt] nvidia corp daily updateddamn thing hasn t even blown yet recheck those last 2 quarters if you wanna [url]\n"
     ]
    }
   ],
   "source": [
    "row = df.iloc[-1]\n",
    "print('{}\\n=> {}\\n'.format(row['raw_text'], row['text']))\n",
    "\n",
    "row = df.iloc[-2]\n",
    "print('{}\\n=> {}'.format(row['raw_text'], row['text']))"
   ]
  },
  {
   "cell_type": "markdown",
   "metadata": {},
   "source": [
    "## Constructing balanced train/test set"
   ]
  },
  {
   "cell_type": "code",
   "execution_count": 41,
   "metadata": {},
   "outputs": [
    {
     "name": "stdout",
     "output_type": "stream",
     "text": [
      "(201709) Before splitting, maximum number of rows for one class: 6992\n",
      "(201709) Before splitting, maximum number of rows for one class: 18107\n",
      "(!201709) Before splitting, maximum number of rows for one class: 41150\n",
      "(!201709) Before splitting, maximum number of rows for one class: 220150\n"
     ]
    }
   ],
   "source": [
    "print('(201709) Before splitting, maximum number of rows for one class:', len(df[(df['label']=='bot')&(df['yyyymm']==201709)]))\n",
    "print('(201709) Before splitting, maximum number of rows for one class:', len(df[(df['label']=='human')&(df['yyyymm']==201709)]))\n",
    "print('(!201709) Before splitting, maximum number of rows for one class:', len(df[(df['label']=='bot')&(df['yyyymm']!=201709)]))\n",
    "print('(!201709) Before splitting, maximum number of rows for one class:', len(df[(df['label']=='human')&(df['yyyymm']!=201709)]))"
   ]
  },
  {
   "cell_type": "markdown",
   "metadata": {},
   "source": [
    "### Test dataset\n",
    "* Produced in September 2017\n",
    "* human:bot = 1:1"
   ]
  },
  {
   "cell_type": "code",
   "execution_count": 8,
   "metadata": {},
   "outputs": [
    {
     "name": "stdout",
     "output_type": "stream",
     "text": [
      "Created /media/dmlab/My Passport/DATA/fin_tweet_spam/data/test_10000.csv\n"
     ]
    }
   ],
   "source": [
    "test_df = pd.concat([df[(df['yyyymm']==201709)&(df['label']==label)].sample(5000) for label in df['label'].unique()])\n",
    "test_df = test_df.sample(frac=1).reset_index(drop=True) # shuffle\n",
    "\n",
    "test_df.to_csv(save_test_filepath, index=False)\n",
    "print('Created {}'.format(save_test_filepath))"
   ]
  },
  {
   "cell_type": "markdown",
   "metadata": {},
   "source": [
    "### Train dataset\n",
    "* Produced in May, June, July, and August 2017"
   ]
  },
  {
   "cell_type": "code",
   "execution_count": 42,
   "metadata": {},
   "outputs": [
    {
     "name": "stdout",
     "output_type": "stream",
     "text": [
      "Created C:\\DATA\\ComBERT\\data_finetuning\\train_261300.csv\n"
     ]
    }
   ],
   "source": [
    "train_full_df = df[df['yyyymm']!=201709]\n",
    "\n",
    "filepath = save_train_filepath_format.format(len(train_full_df))\n",
    "train_full_df.to_csv(filepath, index=False)\n",
    "print('Created {}'.format(filepath))"
   ]
  }
 ],
 "metadata": {
  "kernelspec": {
   "display_name": "Python 3 (ipykernel)",
   "language": "python",
   "name": "python3"
  },
  "language_info": {
   "codemirror_mode": {
    "name": "ipython",
    "version": 3
   },
   "file_extension": ".py",
   "mimetype": "text/x-python",
   "name": "python",
   "nbconvert_exporter": "python",
   "pygments_lexer": "ipython3",
   "version": "3.8.5"
  }
 },
 "nbformat": 4,
 "nbformat_minor": 5
}
