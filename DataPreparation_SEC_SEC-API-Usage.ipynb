{
 "cells": [
  {
   "cell_type": "markdown",
   "metadata": {},
   "source": [
    "# FullTextSearchApi"
   ]
  },
  {
   "cell_type": "code",
   "execution_count": 10,
   "metadata": {},
   "outputs": [],
   "source": [
    "import os, requests\n",
    "import pandas as pd\n",
    "from sec_api import FullTextSearchApi\n",
    "from tqdm import tqdm\n",
    "tqdm.pandas()"
   ]
  },
  {
   "cell_type": "code",
   "execution_count": 4,
   "metadata": {},
   "outputs": [],
   "source": [
    "data_dir = '/media/dmlab/My Passport/DATA/ComBERT/data'\n",
    "data_filepath = os.path.join(data_dir, 'company_info_sec_cik_mapper_12057_20220802.csv')\n",
    "api_key_filepath = 'API_Key.txt'"
   ]
  },
  {
   "cell_type": "code",
   "execution_count": 7,
   "metadata": {},
   "outputs": [],
   "source": [
    "with open(api_key_filepath, \"r\") as f:\n",
    "    api_key = f.read()"
   ]
  },
  {
   "cell_type": "code",
   "execution_count": 23,
   "metadata": {
    "scrolled": true
   },
   "outputs": [
    {
     "name": "stdout",
     "output_type": "stream",
     "text": [
      "Number of CIKs: 9170\n"
     ]
    },
    {
     "data": {
      "text/html": [
       "<div>\n",
       "<style scoped>\n",
       "    .dataframe tbody tr th:only-of-type {\n",
       "        vertical-align: middle;\n",
       "    }\n",
       "\n",
       "    .dataframe tbody tr th {\n",
       "        vertical-align: top;\n",
       "    }\n",
       "\n",
       "    .dataframe thead th {\n",
       "        text-align: right;\n",
       "    }\n",
       "</style>\n",
       "<table border=\"1\" class=\"dataframe\">\n",
       "  <thead>\n",
       "    <tr style=\"text-align: right;\">\n",
       "      <th></th>\n",
       "      <th>CIK</th>\n",
       "      <th>Ticker</th>\n",
       "      <th>Name</th>\n",
       "      <th>Exchange</th>\n",
       "    </tr>\n",
       "  </thead>\n",
       "  <tbody>\n",
       "    <tr>\n",
       "      <th>0</th>\n",
       "      <td>1750</td>\n",
       "      <td>AIR</td>\n",
       "      <td>Aar Corp</td>\n",
       "      <td>NYSE</td>\n",
       "    </tr>\n",
       "    <tr>\n",
       "      <th>1</th>\n",
       "      <td>1800</td>\n",
       "      <td>ABT</td>\n",
       "      <td>Abbott Laboratories</td>\n",
       "      <td>NYSE</td>\n",
       "    </tr>\n",
       "    <tr>\n",
       "      <th>2</th>\n",
       "      <td>1961</td>\n",
       "      <td>WDDD</td>\n",
       "      <td>Worlds Inc</td>\n",
       "      <td>OTC</td>\n",
       "    </tr>\n",
       "    <tr>\n",
       "      <th>3</th>\n",
       "      <td>2098</td>\n",
       "      <td>ACU</td>\n",
       "      <td>Acme United Corp</td>\n",
       "      <td>NYSE</td>\n",
       "    </tr>\n",
       "    <tr>\n",
       "      <th>4</th>\n",
       "      <td>2178</td>\n",
       "      <td>AE</td>\n",
       "      <td>Adams Resources &amp; Energy, Inc.</td>\n",
       "      <td>NYSE</td>\n",
       "    </tr>\n",
       "  </tbody>\n",
       "</table>\n",
       "</div>"
      ],
      "text/plain": [
       "    CIK Ticker                            Name Exchange\n",
       "0  1750    AIR                        Aar Corp     NYSE\n",
       "1  1800    ABT             Abbott Laboratories     NYSE\n",
       "2  1961   WDDD                      Worlds Inc      OTC\n",
       "3  2098    ACU                Acme United Corp     NYSE\n",
       "4  2178     AE  Adams Resources & Energy, Inc.     NYSE"
      ]
     },
     "execution_count": 23,
     "metadata": {},
     "output_type": "execute_result"
    }
   ],
   "source": [
    "df = pd.read_csv(data_filepath)\n",
    "df = df.astype({'CIK':'str'})\n",
    "\n",
    "print('Number of CIKs: {}'.format(len(df['CIK'].unique())))\n",
    "df.head()"
   ]
  },
  {
   "cell_type": "code",
   "execution_count": 11,
   "metadata": {},
   "outputs": [],
   "source": [
    "fullTextSearchApi = FullTextSearchApi(api_key=api_key)"
   ]
  },
  {
   "cell_type": "code",
   "execution_count": 22,
   "metadata": {},
   "outputs": [
    {
     "data": {
      "text/plain": [
       "{'total': {'value': 2, 'relation': 'eq'},\n",
       " 'filings': [{'accessionNo': '0001193125-16-520367',\n",
       "   'cik': '1652044',\n",
       "   'companyNameLong': 'Alphabet Inc. (GOOG, GOOGL) (CIK 0001652044)',\n",
       "   'ticker': 'GOOG',\n",
       "   'description': 'AMENDMENT NO. 1 TO FORM 10-K',\n",
       "   'formType': '10-K/A',\n",
       "   'type': '10-K/A',\n",
       "   'filingUrl': 'https://www.sec.gov/Archives/edgar/data/1652044/000119312516520367/d133613d10ka.htm',\n",
       "   'filedAt': '2016-03-29'},\n",
       "  {'accessionNo': '0001652044-16-000012',\n",
       "   'cik': '1652044',\n",
       "   'companyNameLong': 'Alphabet Inc. (GOOG, GOOGL) (CIK 0001652044)',\n",
       "   'ticker': 'GOOG',\n",
       "   'description': 'FORM 10-K',\n",
       "   'formType': '10-K',\n",
       "   'type': '10-K',\n",
       "   'filingUrl': 'https://www.sec.gov/Archives/edgar/data/1652044/000165204416000012/goog10-k2015.htm',\n",
       "   'filedAt': '2016-02-11'}]}"
      ]
     },
     "execution_count": 22,
     "metadata": {},
     "output_type": "execute_result"
    }
   ],
   "source": [
    "cik = '0001652044' #<- GOOG, GOOGL #df.iloc[0]['CIK']\n",
    "start_date, end_date = '2016-01-01', '2016-12-31'\n",
    "\n",
    "query = {\n",
    "    \"query\": '',\n",
    "    'ciks': [cik],\n",
    "    \"formTypes\": ['10-K'],\n",
    "    \"startDate\": start_date,\n",
    "    \"endDate\": end_date,\n",
    "}\n",
    "\n",
    "filings = fullTextSearchApi.get_filings(query)\n",
    "filings"
   ]
  },
  {
   "cell_type": "code",
   "execution_count": null,
   "metadata": {},
   "outputs": [],
   "source": []
  },
  {
   "cell_type": "markdown",
   "metadata": {},
   "source": [
    "# ExtractorApi"
   ]
  },
  {
   "cell_type": "code",
   "execution_count": 25,
   "metadata": {},
   "outputs": [],
   "source": [
    "from sec_api import ExtractorApi"
   ]
  },
  {
   "cell_type": "code",
   "execution_count": 27,
   "metadata": {},
   "outputs": [],
   "source": [
    "root_dir = '/media/dmlab/My Passport/DATA/ComBERT/data'\n",
    "url_filepath =  os.path.join(root_dir, 'urls_2016_by_sec_api_FullTextSearchApi_with_cik_of_sec_cik_mapper_3999.csv')"
   ]
  },
  {
   "cell_type": "code",
   "execution_count": 28,
   "metadata": {},
   "outputs": [
    {
     "name": "stdout",
     "output_type": "stream",
     "text": [
      "Number of rows: 3999\n"
     ]
    },
    {
     "data": {
      "text/html": [
       "<div>\n",
       "<style scoped>\n",
       "    .dataframe tbody tr th:only-of-type {\n",
       "        vertical-align: middle;\n",
       "    }\n",
       "\n",
       "    .dataframe tbody tr th {\n",
       "        vertical-align: top;\n",
       "    }\n",
       "\n",
       "    .dataframe thead th {\n",
       "        text-align: right;\n",
       "    }\n",
       "</style>\n",
       "<table border=\"1\" class=\"dataframe\">\n",
       "  <thead>\n",
       "    <tr style=\"text-align: right;\">\n",
       "      <th></th>\n",
       "      <th>accessionNo</th>\n",
       "      <th>cik</th>\n",
       "      <th>companyNameLong</th>\n",
       "      <th>ticker</th>\n",
       "      <th>description</th>\n",
       "      <th>formType</th>\n",
       "      <th>type</th>\n",
       "      <th>filingUrl</th>\n",
       "      <th>filedAt</th>\n",
       "    </tr>\n",
       "  </thead>\n",
       "  <tbody>\n",
       "    <tr>\n",
       "      <th>0</th>\n",
       "      <td>0001047469-16-014299</td>\n",
       "      <td>1750</td>\n",
       "      <td>AAR CORP (AIR) (CIK 0000001750)</td>\n",
       "      <td>AIR</td>\n",
       "      <td>10-K</td>\n",
       "      <td>10-K</td>\n",
       "      <td>10-K</td>\n",
       "      <td>https://www.sec.gov/Archives/edgar/data/1750/0...</td>\n",
       "      <td>2016-07-13</td>\n",
       "    </tr>\n",
       "    <tr>\n",
       "      <th>1</th>\n",
       "      <td>0001047469-16-010246</td>\n",
       "      <td>1800</td>\n",
       "      <td>ABBOTT LABORATORIES (ABT) (CIK 0000001800)</td>\n",
       "      <td>ABT</td>\n",
       "      <td>10-K</td>\n",
       "      <td>10-K</td>\n",
       "      <td>10-K</td>\n",
       "      <td>https://www.sec.gov/Archives/edgar/data/1800/0...</td>\n",
       "      <td>2016-02-19</td>\n",
       "    </tr>\n",
       "    <tr>\n",
       "      <th>2</th>\n",
       "      <td>0001264931-16-000339</td>\n",
       "      <td>1961</td>\n",
       "      <td>WORLDS INC (WDDD) (CIK 0000001961)</td>\n",
       "      <td>WDDD</td>\n",
       "      <td>NaN</td>\n",
       "      <td>10-K</td>\n",
       "      <td>10-K</td>\n",
       "      <td>https://www.sec.gov/Archives/edgar/data/1961/0...</td>\n",
       "      <td>2016-04-13</td>\n",
       "    </tr>\n",
       "    <tr>\n",
       "      <th>3</th>\n",
       "      <td>0001026608-16-000091</td>\n",
       "      <td>2098</td>\n",
       "      <td>ACME UNITED CORP (ACU) (CIK 0000002098)</td>\n",
       "      <td>ACU</td>\n",
       "      <td>10-K</td>\n",
       "      <td>10-K</td>\n",
       "      <td>10-K</td>\n",
       "      <td>https://www.sec.gov/Archives/edgar/data/2098/0...</td>\n",
       "      <td>2016-03-11</td>\n",
       "    </tr>\n",
       "    <tr>\n",
       "      <th>4</th>\n",
       "      <td>0000002178-16-000064</td>\n",
       "      <td>2178</td>\n",
       "      <td>ADAMS RESOURCES &amp; ENERGY, INC. (AE) (CIK 00000...</td>\n",
       "      <td>AE</td>\n",
       "      <td>FORM 10-K 151231 ADAMS RESOURCES &amp; ENERGY, INC.</td>\n",
       "      <td>10-K</td>\n",
       "      <td>10-K</td>\n",
       "      <td>https://www.sec.gov/Archives/edgar/data/2178/0...</td>\n",
       "      <td>2016-03-11</td>\n",
       "    </tr>\n",
       "  </tbody>\n",
       "</table>\n",
       "</div>"
      ],
      "text/plain": [
       "            accessionNo   cik  \\\n",
       "0  0001047469-16-014299  1750   \n",
       "1  0001047469-16-010246  1800   \n",
       "2  0001264931-16-000339  1961   \n",
       "3  0001026608-16-000091  2098   \n",
       "4  0000002178-16-000064  2178   \n",
       "\n",
       "                                     companyNameLong ticker  \\\n",
       "0                    AAR CORP (AIR) (CIK 0000001750)    AIR   \n",
       "1         ABBOTT LABORATORIES (ABT) (CIK 0000001800)    ABT   \n",
       "2                 WORLDS INC (WDDD) (CIK 0000001961)   WDDD   \n",
       "3            ACME UNITED CORP (ACU) (CIK 0000002098)    ACU   \n",
       "4  ADAMS RESOURCES & ENERGY, INC. (AE) (CIK 00000...     AE   \n",
       "\n",
       "                                       description formType  type  \\\n",
       "0                                             10-K     10-K  10-K   \n",
       "1                                             10-K     10-K  10-K   \n",
       "2                                              NaN     10-K  10-K   \n",
       "3                                             10-K     10-K  10-K   \n",
       "4  FORM 10-K 151231 ADAMS RESOURCES & ENERGY, INC.     10-K  10-K   \n",
       "\n",
       "                                           filingUrl     filedAt  \n",
       "0  https://www.sec.gov/Archives/edgar/data/1750/0...  2016-07-13  \n",
       "1  https://www.sec.gov/Archives/edgar/data/1800/0...  2016-02-19  \n",
       "2  https://www.sec.gov/Archives/edgar/data/1961/0...  2016-04-13  \n",
       "3  https://www.sec.gov/Archives/edgar/data/2098/0...  2016-03-11  \n",
       "4  https://www.sec.gov/Archives/edgar/data/2178/0...  2016-03-11  "
      ]
     },
     "execution_count": 28,
     "metadata": {},
     "output_type": "execute_result"
    }
   ],
   "source": [
    "df = pd.read_csv(url_filepath)\n",
    "print('Number of rows: {}'.format(len(df)))\n",
    "df.head()"
   ]
  },
  {
   "cell_type": "code",
   "execution_count": 38,
   "metadata": {},
   "outputs": [],
   "source": [
    "extractorApi = ExtractorApi(api_key)"
   ]
  },
  {
   "cell_type": "code",
   "execution_count": 31,
   "metadata": {},
   "outputs": [
    {
     "name": "stdout",
     "output_type": "stream",
     "text": [
      "https://www.sec.gov/Archives/edgar/data/1750/000104746916014299/a2228768z10-k.htm\n"
     ]
    },
    {
     "data": {
      "text/plain": [
       "' ITEM 1. BUSINESS (Dollars in millions) \\n\\nGeneral \\n\\nAAR CORP. and its subsidiaries are referred to herein collectively as \"AAR,\" \"Company,\" \"we,\" \"us,\" and \"our\" unless the context indicates otherwise. AAR was founded in 1951, organized in 1955 and reincorporated in Delaware in 1966. We are a diversified provider of products and services to the worldwide aviation and government and defense markets. \\n\\nDuring fiscal 2015, we executed on a comprehensive strategic plan that included: \\n\\n&#149; The sale of our Telair Cargo Group for cash of $714 million, resulting in pre-tax gains of $198.6 million in the fourth quarter of fiscal 2015 (and $27.7 million in the first quarter of fiscal 2016 from the receipt of contingent consideration); &#149; A decision to divest our Precision Systems Manufacturing business; &#149; The exit of certain product lines and inventories in our aviation services businesses that were underperforming or not part of our strategy going forward; &#149; The reduction of our total debt by $480 million; &#149; The return of capital to shareholders through $151.5 million in common stock repurchases and $12.5 million of dividends. The divestiture of these manufacturing businesses allowed us to narrow our strategy to focus on our best in class aviation and expeditionary services. In fiscal 2016, our Aviation Services segment succeeded in expanding existing customer relationships in distribution and securing new program work with multiple international carriers. In our Expeditionary Services segment, we have completed the successful start-up of our new contract with the U.K. Ministry of Defense providing search and rescue services in the Falkland Islands. \\n\\nAs we enter fiscal 2017, we remain in a strong financial position to further execute on our strategy as a best in class aviation and expeditionary services company. Our cash on hand plus unused capacity on our Revolving Credit Facility was $409 million at May 31, 2016. We expect to invest opportunistically in expanding our comprehensive suite of services to the global commercial aviation and government and defense markets. \\n\\nBusiness Segments \\n\\nAviation Services \\n\\nThe Aviation Services segment provides aftermarket support and services for the commercial aviation and government and defense markets and accounted for 86%, 83%, and 72% of our sales in fiscal 2016, 2015, and 2014, respectively. In this segment, we also provide inventory management and distribution services, maintenance, repair and overhaul (\"MRO\") and engineering services. Business activities in this segment are primarily conducted through AAR Supply Chain, Inc. (formerly known as AAR Parts Trading, Inc.); AAR Aircraft &#38; Engine Sales &#38; Leasing, Inc.; AAR Aircraft Services, Inc.; AAR Allen Services, Inc. (a wholly-owned subsidiary of AAR Parts Trading, Inc.); AAR Landing Gear LLC; and AAR International, Inc. \\n\\nWe sell and lease a wide variety of new, overhauled and repaired engine and airframe parts and components to our commercial aviation and government/defense customers. \\n\\nWe provide customized inventory supply and management, warranty claim management, and outsourcing programs for engine and airframe parts and components in support of our airline and government customers\\' maintenance activities. The types of services provided under these programs include material planning, sourcing, logistics, information and program management, and parts and component repair and overhaul. We are also an authorized distributor for more than 60 leading aviation product manufacturers. \\n\\nWe also provide customized performance-based supply chain logistics programs in support of the U.S. Department of Defense (\"DoD\") and foreign governments. The types of services provided under these programs include material planning, sourcing, logistics, information and program management, airframe maintenance and maintenance planning, and component repair and overhaul. \\n\\nWe provide major airframe inspection, maintenance, repair and overhaul, painting services, line maintenance, airframe modifications, structural repairs, avionic service and installation, exterior and interior refurbishment, and engineering services and support for many types of commercial and military aircraft. We also repair and overhaul landing gears, wheels, and brakes for commercial and military aircraft. \\n\\nWe operate five airframe maintenance facilities and one landing gear overhaul facility. Our landing gear overhaul facility is in Miami, Florida, where we repair and overhaul landing gear, wheels, brakes, and actuators for different types of commercial and military aircraft. Our airframe maintenance facilities are in Indianapolis, Indiana; Oklahoma City, Oklahoma; Duluth, Minnesota; Miami, Florida; and Lake Charles, Louisiana. In fiscal 2016, we closed a regional aircraft maintenance facility in Hot Springs, Arkansas. \\n\\nActivities in our Aviation Services segment also include the sale and lease of used commercial aircraft. Each sale or lease is negotiated as a separate agreement that includes term, price, representations, warranties, and lease return provisions. During fiscal 2015, we sold our last two remaining wholly-owned aircraft and one aircraft owned with joint venture partners. At May 31, 2016, our remaining portfolio consisted of three aircraft owned through joint ventures. \\n\\nThe majority of our sales are made pursuant to standard commercial purchase orders. U.S. government sales are generally made under standard types of government contracts, including definite contracts which call for the performance of specified services or the delivery of specified products and ID/IQ (i.e., indefinite delivery/indefinite quantity) contracts. Certain inventory supply and management and performance-based logistics program agreements reflect negotiated terms and conditions. \\n\\nTo support activities within the Aviation Services segment, we acquire aviation parts and components from domestic and foreign airlines, independent aviation service companies, aircraft leasing companies, and original equipment manufacturers (\"OEM\"s). We have ongoing arrangements with OEMs that provide us access to parts, repair manuals, and service bulletins in support of parts manufactured by them. Although the terms of each arrangement vary, they typically are made on standard OEM terms as to duration, price, and delivery. From time to time, we purchase engines for disassembly into individual parts and components. These engines may be leased to airlines on a short-term basis prior to disassembly. \\n\\nExpeditionary Services \\n\\nThe Expeditionary Services segment consists of businesses that provide products and services supporting the movement of equipment and personnel by the DoD, foreign governments and non-governmental organizations. The Expeditionary Services segment accounted for 14%, 17%, and 28% of our sales in fiscal 2016, 2015, and 2014, respectively. Business activities in this segment are primarily conducted through AAR Airlift Group, Inc.; AAR Manufacturing, Inc. and Brown International Corporation (a wholly-owned subsidiary of AAR Manufacturing, Inc.). \\n\\nWe provide expeditionary airlift services to the United States and other government customers. Our expeditionary airlift services provide fixed- and rotary-wing flight operations. These operations include \\n\\nsearch and rescue operations and transporting personnel and cargo principally in support of the DoD. We operate and maintain a fleet of special mission customized fixed- and rotary-wing aircraft, principally in Afghanistan, Falkland Islands, Northern Africa, and Western Pacific regions. We hold FAR Part 133 and 135 certificates to operate aircraft and a FAR Part 145 certificate to operate a repair station. We are also Commercial Airlift Review Board certified with the DoD. \\n\\nWe design, manufacture, and repair transportation pallets, and a wide variety of containers and shelters used in support of military and humanitarian tactical deployment activities. The containers and shelters are used in numerous mission requirements, including armories, supply and parts storage, refrigeration systems, tactical operation centers, briefing rooms, laundry and kitchen facilities, water treatment, and sleeping quarters. Shelters include both stationary and vehicle-mounted applications. \\n\\nWe also provide engineering, design, and system integration services for specialized command and control systems. \\n\\nSales in this segment are made to customers pursuant to standard commercial purchase orders and contracts. U.S. government sales are generally made under standard types of government contracts, including definite contracts which call for the performance of specified services or the delivery of specified products and ID/IQ (i.e., indefinite delivery/indefinite quantity) contracts. The majority of our products and services are procured via definite contracts. We purchase raw materials for this segment, including steel, aluminum, extrusions, and other necessary supplies from several vendors. \\n\\nRaw Materials \\n\\nAlthough we generated 54% of our fiscal 2016 sales from the sale of products, our businesses are generally engaged in limited manufacturing activities and have minimal exposure to fluctuations in both the availability and pricing for raw materials. Where necessary, we have been able to obtain raw materials and other inventory items from numerous sources for each segment at competitive prices, terms, and conditions, and we expect to be able to continue to do so. \\n\\nTerms of Sale \\n\\nWe generally sell our products and services under standard 30-day payment terms. On occasion, certain customers, principally foreign customers, will negotiate extended payment terms of 60-90 days. Except for customary warranty provisions, customers neither have the right to return products nor do they have the right to extended financing. Our contracts with the DoD and its contractors and other governmental agencies are typically firm agreements to provide products and services at a fixed price or on a time and material basis, and have a term of one year or less, frequently subject to extension for one or more additional periods of one year at the option of the government customer. \\n\\nCustomers \\n\\nThe principal customers for our products and services in the Aviation Services segment are domestic and foreign commercial airlines, domestic and foreign freight airlines, regional and commuter airlines, business and general aviation operators, OEMs, aircraft leasing companies, aftermarket aviation support companies, the DoD and its contractors, and foreign military organizations or governments. In the Expeditionary Services segment, our principal customers include the DoD and its contractors and foreign governmental and defense organizations. \\n\\nSales of aviation products and services to our commercial airline customers are generally affected by such factors as the number, type and average age of aircraft in service, the levels of aircraft utilization (e.g., frequency of schedules), the number of airline operators, the general economy, and the level of sales of new and used aircraft. Sales to the DoD and other government agencies are subject to a number of \\n\\nfactors, including the level of troop deployment worldwide, government funding, competitive bidding, and requirements generated by worldwide geopolitical events. \\n\\nWe primarily market and sell products and services through our own employees. In certain markets outside of the United States, we rely on foreign sales representatives to assist in the sale of our products and services. \\n\\nSales to Government and Defense Customers \\n\\nSales to global government and defense customers (including sales to branches, agencies, and departments of the U.S. government) were $642.6 million (38.7% of consolidated sales), $589.8 million (37.0% of consolidated sales) and $777.5 million (45.4% of consolidated sales) in fiscal 2016, 2015 and 2014, respectively. Sales to branches, agencies, and departments of the U.S. government and their contractors were $513.8 million (30.9% of consolidated sales), $493.1 million (30.9% of consolidated sales), and $661.7 million (38.7% of consolidated sales) in fiscal 2016, 2015, and 2014, respectively. Sales to government and defense customers are reported in each of our reportable segments (See Note 14 of Notes to Consolidated Financial Statements). Since such sales are subject to competitive bidding and government funding, no assurance can be given that such sales will continue at levels previously experienced. The majority of our U.S. government contracts are for products and services supporting the DoD logistics and mobility strategy, as well as for expeditionary airlift services. Thus, our government contracts have changed, and may continue to change, with fluctuations in defense and other governmental agency spending. Our government contracts are also subject to termination by the customer; in the event of such a termination we would be entitled to recover all allowable costs incurred by us through the date of termination. \\n\\nGovernment Regulation and Certificates \\n\\nThe Federal Aviation Administration (\"FAA\") regulates the manufacture, repair, distribution, and operation of all aircraft and aircraft parts operated in the United States. Similar rules and regulatory authorities exist in other countries. The inspection, maintenance and repair procedures for the various types of aircraft and equipment are prescribed by these regulatory authorities and can be performed only by certified repair facilities utilizing certified technicians. The FAA requires that various maintenance routines be performed on aircraft engines, certain engine parts, and airframes at regular intervals based on take off and landing cycles or flight time. Our businesses which sell defense products and services directly to the U.S. government or through its contractors can be subject to various laws and regulations governing pricing and other factors. \\n\\nWe have 12 FAA certificated repair stations in the United States and Europe. Of the 12 certificated FAA repair stations, seven are also European Aviation Safety Agency (\"EASA\") certificated repair stations. Such certificates, which are ongoing in duration, are required for us to perform authorized maintenance, repair and overhaul services for our customers and are subject to revocation by the government for non-compliance with applicable regulations. Of the 12 FAA certificated repair stations, 11 are in the Aviation Services segment and one is in the Expeditionary Services segment. The seven EASA certificated repair stations are in the Aviation Services segment. We also hold FAR Part 133 and 135 certificates to operate aircraft in our Expeditionary Services segment. We are also Commercial Airlift Review Board certified with the DoD. We believe that we possess all licenses and certifications that are material to the conduct of our business. \\n\\nCompetition \\n\\nCompetition in each of our markets is based on quality, ability to provide a broad range of products and services, speed of delivery, and price. Competitors in our Aviation Services segment include OEMs, the service divisions of large commercial airlines, and other independent suppliers of parts, repair, and \\n\\noverhaul services to the commercial and defense markets. Our Expeditionary Services segment competes with domestic and foreign contracting companies and a number of divisions of large corporations and other large and small companies. Although certain of our competitors have substantially greater financial and other resources than we do, we believe that we have maintained a satisfactory competitive position through our responsiveness to customer needs, our attention to quality, and our unique combination of market expertise and technical and financial capabilities. \\n\\nBacklog \\n\\nBacklog represents the amount of revenue that we expect to derive from unshipped orders or signed contracts. At May 31, 2016, backlog was approximately $953.9 million compared to $920.3 million at May 31, 2015. Approximately $506.7 million of our May 31, 2016 backlog is expected to be filled within the next 12 months. \\n\\nEmployees \\n\\nAt May 31, 2016, we employed approximately 4,700 employees worldwide, of which approximately 110 employees are subject to a collective bargaining agreement. We also retain approximately 830 contract workers, the majority of whom are located at our airframe maintenance facilities. \\n\\nAvailable Information \\n\\nFor additional information concerning our business segments, see Item 7, \"Management\\'s Discussion and Analysis of Financial Condition and Results of Operations\" and \"Business Segment Information\" in Note 14 of Notes to Consolidated Financial Statements under Item 8, \"Financial Statements and Supplementary Data.\" \\n\\nOur internet address is www.aarcorp.com. We make available free of charge through our web site our annual report on Form 10-K, quarterly reports on Form 10-Q, current reports on Form 8-K, and all amendments to those reports filed or furnished pursuant to Section 13(a) or 15(d) of the Securities Exchange Act of 1934 as soon as reasonably practicable after we electronically file such material with, or furnish such material to, the Securities and Exchange Commission. Information contained on our web site is not a part of this report. \\n\\n'"
      ]
     },
     "execution_count": 31,
     "metadata": {},
     "output_type": "execute_result"
    }
   ],
   "source": [
    "url = df.iloc[0]['filingUrl']\n",
    "print(url)\n",
    "item_num = '1'\n",
    "extractorApi.get_section(url, item_num, \"text\")"
   ]
  },
  {
   "cell_type": "code",
   "execution_count": 39,
   "metadata": {},
   "outputs": [
    {
     "name": "stdout",
     "output_type": "stream",
     "text": [
      "https://www.sec.gov/Archives/edgar/data/831001/000083100116000235/c-12312015x10k.htm\n"
     ]
    },
    {
     "data": {
      "text/plain": [
       "''"
      ]
     },
     "execution_count": 39,
     "metadata": {},
     "output_type": "execute_result"
    }
   ],
   "source": [
    "url = df[df['ticker']=='C'].iloc[0]['filingUrl'] # <- CITI Group\n",
    "print(url)\n",
    "item_num = '1'\n",
    "extractorApi.get_section(url, item_num, \"text\")"
   ]
  },
  {
   "cell_type": "code",
   "execution_count": 41,
   "metadata": {},
   "outputs": [
    {
     "data": {
      "text/plain": [
       "True"
      ]
     },
     "execution_count": 41,
     "metadata": {},
     "output_type": "execute_result"
    }
   ],
   "source": [
    "result = extractorApi.get_section(url, item_num, \"text\")\n",
    "result == ''"
   ]
  },
  {
   "cell_type": "markdown",
   "metadata": {},
   "source": [
    "### Check Undefined results "
   ]
  },
  {
   "cell_type": "code",
   "execution_count": 42,
   "metadata": {},
   "outputs": [],
   "source": [
    "undefined_filepath = os.path.join(root_dir, 'Item1s_2016_by_sec_api_ExtractorApi_with_cik_of_sec_cik_mapper_undefined_9.csv')"
   ]
  },
  {
   "cell_type": "code",
   "execution_count": 45,
   "metadata": {},
   "outputs": [
    {
     "name": "stdout",
     "output_type": "stream",
     "text": [
      "NORTH EUROPEAN OIL ROYALTY TRUST (NRT) (CIK 0000072633) NRT https://www.sec.gov/Archives/edgar/data/72633/000007263316000054/tenk16.txt\n",
      "SCIENTIFIC INDUSTRIES INC (SCND) (CIK 0000087802) SCND https://www.sec.gov/Archives/edgar/data/87802/000008780216000019/k63016.txt\n",
      "SEMPRA ENERGY (SRE) (CIK 0001032208) SRE https://www.sec.gov/Archives/edgar/data/1032208/000008652116000091/sre10k_12312015.htm\n",
      "CITIGROUP INC (C) (CIK 0000831001) C https://www.sec.gov/Archives/edgar/data/831001/000083100116000235/c-12312015x10k.htm\n",
      "BALTIC INTERNATIONAL USA INC (BISA) (CIK 0000918545) BISA https://www.sec.gov/Archives/edgar/data/918545/000091854516000010/r10k2015.txt\n",
      "SEMPRA ENERGY (SRE) (CIK 0001032208) SRE https://www.sec.gov/Archives/edgar/data/1032208/000008652116000091/sre10k_12312015.htm\n",
      "MARKEL CORP (MKL) (CIK 0001096343) MKL https://www.sec.gov/Archives/edgar/data/1096343/000109634316000185/mkl_12312015x10k.htm\n",
      "MGE ENERGY INC (MGEE) (CIK 0001161728) MGEE https://www.sec.gov/Archives/edgar/data/1161728/000116172816000028/f10k_2015.htm\n",
      "Concrete Leveling Systems Inc (CLEV) (CIK 0001414382) CLEV https://www.sec.gov/Archives/edgar/data/1414382/000116552716000904/g8310.txt\n"
     ]
    }
   ],
   "source": [
    "for _, row in pd.read_csv(undefined_filepath).iterrows():\n",
    "    print(row['companyNameLong'], row['ticker'], row['filingUrl'])"
   ]
  },
  {
   "cell_type": "markdown",
   "metadata": {},
   "source": [
    "# Check results to be used in the experiment"
   ]
  },
  {
   "cell_type": "code",
   "execution_count": 46,
   "metadata": {},
   "outputs": [],
   "source": [
    "item1s_filepath = os.path.join(root_dir, 'Item1s_2016_by_sec_api_ExtractorApi_with_cik_of_sec_cik_mapper_3990.csv')"
   ]
  },
  {
   "cell_type": "code",
   "execution_count": 47,
   "metadata": {},
   "outputs": [
    {
     "data": {
      "text/html": [
       "<div>\n",
       "<style scoped>\n",
       "    .dataframe tbody tr th:only-of-type {\n",
       "        vertical-align: middle;\n",
       "    }\n",
       "\n",
       "    .dataframe tbody tr th {\n",
       "        vertical-align: top;\n",
       "    }\n",
       "\n",
       "    .dataframe thead th {\n",
       "        text-align: right;\n",
       "    }\n",
       "</style>\n",
       "<table border=\"1\" class=\"dataframe\">\n",
       "  <thead>\n",
       "    <tr style=\"text-align: right;\">\n",
       "      <th></th>\n",
       "      <th>accessionNo</th>\n",
       "      <th>cik</th>\n",
       "      <th>companyNameLong</th>\n",
       "      <th>ticker</th>\n",
       "      <th>description</th>\n",
       "      <th>formType</th>\n",
       "      <th>type</th>\n",
       "      <th>filingUrl</th>\n",
       "      <th>filedAt</th>\n",
       "      <th>item_1</th>\n",
       "    </tr>\n",
       "  </thead>\n",
       "  <tbody>\n",
       "    <tr>\n",
       "      <th>0</th>\n",
       "      <td>0001047469-16-014299</td>\n",
       "      <td>1750</td>\n",
       "      <td>AAR CORP (AIR) (CIK 0000001750)</td>\n",
       "      <td>AIR</td>\n",
       "      <td>10-K</td>\n",
       "      <td>10-K</td>\n",
       "      <td>10-K</td>\n",
       "      <td>https://www.sec.gov/Archives/edgar/data/1750/0...</td>\n",
       "      <td>2016-07-13</td>\n",
       "      <td>ITEM 1. BUSINESS (Dollars in millions) \\n\\nGe...</td>\n",
       "    </tr>\n",
       "    <tr>\n",
       "      <th>1</th>\n",
       "      <td>0001047469-16-010246</td>\n",
       "      <td>1800</td>\n",
       "      <td>ABBOTT LABORATORIES (ABT) (CIK 0000001800)</td>\n",
       "      <td>ABT</td>\n",
       "      <td>10-K</td>\n",
       "      <td>10-K</td>\n",
       "      <td>10-K</td>\n",
       "      <td>https://www.sec.gov/Archives/edgar/data/1800/0...</td>\n",
       "      <td>2016-02-19</td>\n",
       "      <td>ITEM 1. BUSINESS \\n\\nGENERAL DEVELOPMENT OF B...</td>\n",
       "    </tr>\n",
       "    <tr>\n",
       "      <th>2</th>\n",
       "      <td>0001264931-16-000339</td>\n",
       "      <td>1961</td>\n",
       "      <td>WORLDS INC (WDDD) (CIK 0000001961)</td>\n",
       "      <td>WDDD</td>\n",
       "      <td>NaN</td>\n",
       "      <td>10-K</td>\n",
       "      <td>10-K</td>\n",
       "      <td>https://www.sec.gov/Archives/edgar/data/1961/0...</td>\n",
       "      <td>2016-04-13</td>\n",
       "      <td>ITEM 1. BUSINESS. \\n\\n&amp;#160;\\n\\nGeneral \\n\\n&amp;...</td>\n",
       "    </tr>\n",
       "    <tr>\n",
       "      <th>3</th>\n",
       "      <td>0001026608-16-000091</td>\n",
       "      <td>2098</td>\n",
       "      <td>ACME UNITED CORP (ACU) (CIK 0000002098)</td>\n",
       "      <td>ACU</td>\n",
       "      <td>10-K</td>\n",
       "      <td>10-K</td>\n",
       "      <td>10-K</td>\n",
       "      <td>https://www.sec.gov/Archives/edgar/data/2098/0...</td>\n",
       "      <td>2016-03-11</td>\n",
       "      <td>Item 1. Business \\n\\n&amp;#160; \\n\\n&amp;#160; \\n\\nOv...</td>\n",
       "    </tr>\n",
       "    <tr>\n",
       "      <th>4</th>\n",
       "      <td>0000002178-16-000064</td>\n",
       "      <td>2178</td>\n",
       "      <td>ADAMS RESOURCES &amp; ENERGY, INC. (AE) (CIK 00000...</td>\n",
       "      <td>AE</td>\n",
       "      <td>FORM 10-K 151231 ADAMS RESOURCES &amp; ENERGY, INC.</td>\n",
       "      <td>10-K</td>\n",
       "      <td>10-K</td>\n",
       "      <td>https://www.sec.gov/Archives/edgar/data/2178/0...</td>\n",
       "      <td>2016-03-11</td>\n",
       "      <td>Items 1 and 2. BUSINESS AND PROPERTIES \\n\\nBu...</td>\n",
       "    </tr>\n",
       "    <tr>\n",
       "      <th>...</th>\n",
       "      <td>...</td>\n",
       "      <td>...</td>\n",
       "      <td>...</td>\n",
       "      <td>...</td>\n",
       "      <td>...</td>\n",
       "      <td>...</td>\n",
       "      <td>...</td>\n",
       "      <td>...</td>\n",
       "      <td>...</td>\n",
       "      <td>...</td>\n",
       "    </tr>\n",
       "    <tr>\n",
       "      <th>3985</th>\n",
       "      <td>0001213900-16-017726</td>\n",
       "      <td>1667313</td>\n",
       "      <td>Zedge, Inc. (ZDGE) (CIK 0001667313)</td>\n",
       "      <td>ZDGE</td>\n",
       "      <td>ANNUAL REPORT</td>\n",
       "      <td>10-K</td>\n",
       "      <td>10-K</td>\n",
       "      <td>https://www.sec.gov/Archives/edgar/data/166731...</td>\n",
       "      <td>2016-10-26</td>\n",
       "      <td>Item 1. Business \\n\\n&amp;#160; \\n\\nCompany Overv...</td>\n",
       "    </tr>\n",
       "    <tr>\n",
       "      <th>3986</th>\n",
       "      <td>0001670541-16-000016</td>\n",
       "      <td>1670541</td>\n",
       "      <td>Adient Ltd (ADNT) (CIK 0001670541)</td>\n",
       "      <td>ADNT</td>\n",
       "      <td>10-K</td>\n",
       "      <td>10-K</td>\n",
       "      <td>10-K</td>\n",
       "      <td>https://www.sec.gov/Archives/edgar/data/167054...</td>\n",
       "      <td>2016-11-29</td>\n",
       "      <td>Item 1. \\n\\nBusiness \\n\\n&amp;#160; \\n\\n&amp;#160; \\n...</td>\n",
       "    </tr>\n",
       "    <tr>\n",
       "      <th>3987</th>\n",
       "      <td>0001663577-16-000330</td>\n",
       "      <td>1670869</td>\n",
       "      <td>Rocky Mountain High Brands, Inc. (RMHB) (CIK 0...</td>\n",
       "      <td>RMHB</td>\n",
       "      <td>NaN</td>\n",
       "      <td>10-K</td>\n",
       "      <td>10-K</td>\n",
       "      <td>https://www.sec.gov/Archives/edgar/data/167086...</td>\n",
       "      <td>2016-10-04</td>\n",
       "      <td>Item 1. Business \\n\\nOverview \\n\\n&amp;#160; \\n\\n...</td>\n",
       "    </tr>\n",
       "    <tr>\n",
       "      <th>3988</th>\n",
       "      <td>0001674862-16-000008</td>\n",
       "      <td>1674862</td>\n",
       "      <td>ASHLAND GLOBAL HOLDINGS INC (ASH) (CIK 0001674...</td>\n",
       "      <td>ASH</td>\n",
       "      <td>10-K</td>\n",
       "      <td>10-K</td>\n",
       "      <td>10-K</td>\n",
       "      <td>https://www.sec.gov/Archives/edgar/data/167486...</td>\n",
       "      <td>2016-11-21</td>\n",
       "      <td>ITEM 1. BUSINESS \\n\\nGENERAL \\n\\nAshland Glob...</td>\n",
       "    </tr>\n",
       "    <tr>\n",
       "      <th>3989</th>\n",
       "      <td>0001674910-16-000004</td>\n",
       "      <td>1674910</td>\n",
       "      <td>VALVOLINE INC (VVV) (CIK 0001674910)</td>\n",
       "      <td>VVV</td>\n",
       "      <td>10-K</td>\n",
       "      <td>10-K</td>\n",
       "      <td>10-K</td>\n",
       "      <td>https://www.sec.gov/Archives/edgar/data/167491...</td>\n",
       "      <td>2016-12-19</td>\n",
       "      <td>ITEM 1. BUSINESS \\n\\nGeneral \\n\\nValvoline In...</td>\n",
       "    </tr>\n",
       "  </tbody>\n",
       "</table>\n",
       "<p>3990 rows × 10 columns</p>\n",
       "</div>"
      ],
      "text/plain": [
       "               accessionNo      cik  \\\n",
       "0     0001047469-16-014299     1750   \n",
       "1     0001047469-16-010246     1800   \n",
       "2     0001264931-16-000339     1961   \n",
       "3     0001026608-16-000091     2098   \n",
       "4     0000002178-16-000064     2178   \n",
       "...                    ...      ...   \n",
       "3985  0001213900-16-017726  1667313   \n",
       "3986  0001670541-16-000016  1670541   \n",
       "3987  0001663577-16-000330  1670869   \n",
       "3988  0001674862-16-000008  1674862   \n",
       "3989  0001674910-16-000004  1674910   \n",
       "\n",
       "                                        companyNameLong ticker  \\\n",
       "0                       AAR CORP (AIR) (CIK 0000001750)    AIR   \n",
       "1            ABBOTT LABORATORIES (ABT) (CIK 0000001800)    ABT   \n",
       "2                    WORLDS INC (WDDD) (CIK 0000001961)   WDDD   \n",
       "3               ACME UNITED CORP (ACU) (CIK 0000002098)    ACU   \n",
       "4     ADAMS RESOURCES & ENERGY, INC. (AE) (CIK 00000...     AE   \n",
       "...                                                 ...    ...   \n",
       "3985                Zedge, Inc. (ZDGE) (CIK 0001667313)   ZDGE   \n",
       "3986                 Adient Ltd (ADNT) (CIK 0001670541)   ADNT   \n",
       "3987  Rocky Mountain High Brands, Inc. (RMHB) (CIK 0...   RMHB   \n",
       "3988  ASHLAND GLOBAL HOLDINGS INC (ASH) (CIK 0001674...    ASH   \n",
       "3989               VALVOLINE INC (VVV) (CIK 0001674910)    VVV   \n",
       "\n",
       "                                          description formType  type  \\\n",
       "0                                                10-K     10-K  10-K   \n",
       "1                                                10-K     10-K  10-K   \n",
       "2                                                 NaN     10-K  10-K   \n",
       "3                                                10-K     10-K  10-K   \n",
       "4     FORM 10-K 151231 ADAMS RESOURCES & ENERGY, INC.     10-K  10-K   \n",
       "...                                               ...      ...   ...   \n",
       "3985                                    ANNUAL REPORT     10-K  10-K   \n",
       "3986                                             10-K     10-K  10-K   \n",
       "3987                                              NaN     10-K  10-K   \n",
       "3988                                             10-K     10-K  10-K   \n",
       "3989                                             10-K     10-K  10-K   \n",
       "\n",
       "                                              filingUrl     filedAt  \\\n",
       "0     https://www.sec.gov/Archives/edgar/data/1750/0...  2016-07-13   \n",
       "1     https://www.sec.gov/Archives/edgar/data/1800/0...  2016-02-19   \n",
       "2     https://www.sec.gov/Archives/edgar/data/1961/0...  2016-04-13   \n",
       "3     https://www.sec.gov/Archives/edgar/data/2098/0...  2016-03-11   \n",
       "4     https://www.sec.gov/Archives/edgar/data/2178/0...  2016-03-11   \n",
       "...                                                 ...         ...   \n",
       "3985  https://www.sec.gov/Archives/edgar/data/166731...  2016-10-26   \n",
       "3986  https://www.sec.gov/Archives/edgar/data/167054...  2016-11-29   \n",
       "3987  https://www.sec.gov/Archives/edgar/data/167086...  2016-10-04   \n",
       "3988  https://www.sec.gov/Archives/edgar/data/167486...  2016-11-21   \n",
       "3989  https://www.sec.gov/Archives/edgar/data/167491...  2016-12-19   \n",
       "\n",
       "                                                 item_1  \n",
       "0      ITEM 1. BUSINESS (Dollars in millions) \\n\\nGe...  \n",
       "1      ITEM 1. BUSINESS \\n\\nGENERAL DEVELOPMENT OF B...  \n",
       "2      ITEM 1. BUSINESS. \\n\\n&#160;\\n\\nGeneral \\n\\n&...  \n",
       "3      Item 1. Business \\n\\n&#160; \\n\\n&#160; \\n\\nOv...  \n",
       "4      Items 1 and 2. BUSINESS AND PROPERTIES \\n\\nBu...  \n",
       "...                                                 ...  \n",
       "3985   Item 1. Business \\n\\n&#160; \\n\\nCompany Overv...  \n",
       "3986   Item 1. \\n\\nBusiness \\n\\n&#160; \\n\\n&#160; \\n...  \n",
       "3987   Item 1. Business \\n\\nOverview \\n\\n&#160; \\n\\n...  \n",
       "3988   ITEM 1. BUSINESS \\n\\nGENERAL \\n\\nAshland Glob...  \n",
       "3989   ITEM 1. BUSINESS \\n\\nGeneral \\n\\nValvoline In...  \n",
       "\n",
       "[3990 rows x 10 columns]"
      ]
     },
     "execution_count": 47,
     "metadata": {},
     "output_type": "execute_result"
    }
   ],
   "source": [
    "pd.read_csv(item1s_filepath)"
   ]
  }
 ],
 "metadata": {
  "kernelspec": {
   "display_name": "Python 3 (ipykernel)",
   "language": "python",
   "name": "python3"
  },
  "language_info": {
   "codemirror_mode": {
    "name": "ipython",
    "version": 3
   },
   "file_extension": ".py",
   "mimetype": "text/x-python",
   "name": "python",
   "nbconvert_exporter": "python",
   "pygments_lexer": "ipython3",
   "version": "3.8.5"
  }
 },
 "nbformat": 4,
 "nbformat_minor": 5
}
