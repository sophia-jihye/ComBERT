{
 "cells": [
  {
   "cell_type": "code",
   "execution_count": 21,
   "metadata": {},
   "outputs": [],
   "source": [
    "from transformers_helper import FeatureExtractor_pipeline\n",
    "from sklearn.metrics.pairwise import cosine_similarity\n",
    "import os\n",
    "from numpy import dot\n",
    "from numpy.linalg import norm\n",
    "\n",
    "def cosine_similarity(a, b):\n",
    "     return dot(a, b)/(norm(a)*norm(b))"
   ]
  },
  {
   "cell_type": "markdown",
   "metadata": {},
   "source": [
    "### SECBERT post-trained using the proposed company name masking method"
   ]
  },
  {
   "cell_type": "code",
   "execution_count": 34,
   "metadata": {},
   "outputs": [
    {
     "name": "stderr",
     "output_type": "stream",
     "text": [
      "Some weights of the model checkpoint at C:\\DATA\\ComBERT\\models_post-trained\\SECBERT_CM were not used when initializing BertModel: ['cls.predictions.transform.dense.weight', 'cls.predictions.transform.dense.bias', 'cls.predictions.decoder.weight', 'cls.predictions.transform.LayerNorm.bias', 'cls.predictions.decoder.bias', 'cls.predictions.bias', 'cls.predictions.transform.LayerNorm.weight']\n",
      "- This IS expected if you are initializing BertModel from the checkpoint of a model trained on another task or with another architecture (e.g. initializing a BertForSequenceClassification model from a BertForPreTraining model).\n",
      "- This IS NOT expected if you are initializing BertModel from the checkpoint of a model that you expect to be exactly identical (initializing a BertForSequenceClassification model from a BertForSequenceClassification model).\n",
      "Some weights of BertModel were not initialized from the model checkpoint at C:\\DATA\\ComBERT\\models_post-trained\\SECBERT_CM and are newly initialized: ['bert.pooler.dense.weight', 'bert.pooler.dense.bias']\n",
      "You should probably TRAIN this model on a down-stream task to be able to use it for predictions and inference.\n"
     ]
    }
   ],
   "source": [
    "model_dir = os.path.join('C:\\DATA\\ComBERT\\models_post-trained', 'SECBERT_CM')\n",
    "feature_extractor = FeatureExtractor_pipeline(model_dir) "
   ]
  },
  {
   "cell_type": "code",
   "execution_count": 36,
   "metadata": {},
   "outputs": [
    {
     "name": "stdout",
     "output_type": "stream",
     "text": [
      "Cosine similarity between apple & cryptocurrency is 0.6761\n",
      "Cosine similarity between amazon & cryptocurrency is 0.5839\n"
     ]
    }
   ],
   "source": [
    "print('Cosine similarity between {} & {} is {:.4f}'.format('apple', 'cryptocurrency', \\\n",
    "   cosine_similarity(feature_extractor.get_feature('apple'), feature_extractor.get_feature('cryptocurrency'))))\n",
    "\n",
    "print('Cosine similarity between {} & {} is {:.4f}'.format('amazon', 'cryptocurrency', \\\n",
    "   cosine_similarity(feature_extractor.get_feature('amazon'), feature_extractor.get_feature('cryptocurrency'))))"
   ]
  },
  {
   "cell_type": "markdown",
   "metadata": {},
   "source": [
    "### SECBERT without post-training"
   ]
  },
  {
   "cell_type": "code",
   "execution_count": 31,
   "metadata": {},
   "outputs": [
    {
     "name": "stderr",
     "output_type": "stream",
     "text": [
      "Some weights of the model checkpoint at nlpaueb/sec-bert-base were not used when initializing BertModel: ['cls.predictions.transform.dense.weight', 'cls.predictions.transform.dense.bias', 'cls.predictions.decoder.weight', 'cls.seq_relationship.weight', 'cls.predictions.transform.LayerNorm.weight', 'cls.predictions.decoder.bias', 'cls.predictions.bias', 'cls.seq_relationship.bias', 'cls.predictions.transform.LayerNorm.bias']\n",
      "- This IS expected if you are initializing BertModel from the checkpoint of a model trained on another task or with another architecture (e.g. initializing a BertForSequenceClassification model from a BertForPreTraining model).\n",
      "- This IS NOT expected if you are initializing BertModel from the checkpoint of a model that you expect to be exactly identical (initializing a BertForSequenceClassification model from a BertForSequenceClassification model).\n"
     ]
    }
   ],
   "source": [
    "model_dir = 'nlpaueb/sec-bert-base'\n",
    "feature_extractor = FeatureExtractor_pipeline(model_dir) "
   ]
  },
  {
   "cell_type": "code",
   "execution_count": 37,
   "metadata": {},
   "outputs": [
    {
     "name": "stdout",
     "output_type": "stream",
     "text": [
      "Cosine similarity between apple & cryptocurrency is 0.6761\n",
      "Cosine similarity between amazon & cryptocurrency is 0.5839\n"
     ]
    }
   ],
   "source": [
    "print('Cosine similarity between {} & {} is {:.4f}'.format('apple', 'cryptocurrency', \\\n",
    "   cosine_similarity(feature_extractor.get_feature('apple'), feature_extractor.get_feature('cryptocurrency'))))\n",
    "\n",
    "print('Cosine similarity between {} & {} is {:.4f}'.format('amazon', 'cryptocurrency', \\\n",
    "   cosine_similarity(feature_extractor.get_feature('amazon'), feature_extractor.get_feature('cryptocurrency'))))"
   ]
  }
 ],
 "metadata": {
  "kernelspec": {
   "display_name": "Python 3 (ipykernel)",
   "language": "python",
   "name": "python3"
  },
  "language_info": {
   "codemirror_mode": {
    "name": "ipython",
    "version": 3
   },
   "file_extension": ".py",
   "mimetype": "text/x-python",
   "name": "python",
   "nbconvert_exporter": "python",
   "pygments_lexer": "ipython3",
   "version": "3.8.5"
  }
 },
 "nbformat": 4,
 "nbformat_minor": 4
}
