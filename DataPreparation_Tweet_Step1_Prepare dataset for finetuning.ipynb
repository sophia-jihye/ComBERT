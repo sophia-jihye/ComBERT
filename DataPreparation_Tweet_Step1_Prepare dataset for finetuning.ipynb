{
 "cells": [
  {
   "cell_type": "code",
   "execution_count": 1,
   "metadata": {},
   "outputs": [],
   "source": [
    "import pandas as pd \n",
    "import os\n",
    "from tqdm import tqdm\n",
    "tqdm.pandas()\n",
    "from datetime import datetime\n",
    "import re, html, copy\n",
    "import seaborn as sns"
   ]
  },
  {
   "cell_type": "code",
   "execution_count": 3,
   "metadata": {},
   "outputs": [],
   "source": [
    "data_dir = '/media/dmlab/My Passport/DATA/BenchmarkDataset/Cashtag Piggybacking dataset'\n",
    "tweet_filepath = os.path.join(data_dir, 'tweets.csv')\n",
    "user_filepath = os.path.join(data_dir, 'users.csv')\n",
    "\n",
    "save_dir = '/media/dmlab/My Passport/DATA/CABERT/ft_data'\n",
    "if not os.path.exists(save_dir): os.makedirs(save_dir)"
   ]
  },
  {
   "cell_type": "markdown",
   "metadata": {},
   "source": [
    "# Tweets\n",
    "User information"
   ]
  },
  {
   "cell_type": "code",
   "execution_count": 5,
   "metadata": {},
   "outputs": [
    {
     "name": "stderr",
     "output_type": "stream",
     "text": [
      "b'Skipping line 369555: expected 16 fields, saw 17\\n'\n",
      "b'Skipping line 509344: expected 16 fields, saw 17\\n'\n",
      "/home/dmlab/anaconda3/envs/torchtext/lib/python3.6/site-packages/IPython/core/interactiveshell.py:2714: DtypeWarning: Columns (7,12) have mixed types.Specify dtype option on import or set low_memory=False.\n",
      "  interactivity=interactivity, compiler=compiler, result=result)\n"
     ]
    },
    {
     "name": "stdout",
     "output_type": "stream",
     "text": [
      "human 7479\n",
      "bot 18509\n"
     ]
    }
   ],
   "source": [
    "user_df = pd.read_csv(user_filepath, error_bad_lines=False)\n",
    "print('human', len(user_df[user_df['bot']==0]))\n",
    "print('bot', len(user_df[user_df['bot']==1]))\n",
    "\n",
    "human_user_ids = user_df[user_df['bot']==0]['id'].values\n",
    "bot_user_ids = user_df[user_df['bot']==1]['id'].values"
   ]
  },
  {
   "cell_type": "code",
   "execution_count": 6,
   "metadata": {},
   "outputs": [
    {
     "name": "stdout",
     "output_type": "stream",
     "text": [
      "CPU times: user 17.2 s, sys: 1.97 s, total: 19.2 s\n",
      "Wall time: 19.2 s\n"
     ]
    }
   ],
   "source": [
    "%%time\n",
    "tweet_df = pd.read_csv(tweet_filepath)"
   ]
  },
  {
   "cell_type": "code",
   "execution_count": 7,
   "metadata": {},
   "outputs": [
    {
     "name": "stdout",
     "output_type": "stream",
     "text": [
      "Total number of tweets=9091539\n",
      "Total number of users=597413\n"
     ]
    }
   ],
   "source": [
    "print('Total number of tweets={}'.format(len(tweet_df)))\n",
    "print('Total number of users={}'.format(len(tweet_df['user_id'].unique())))"
   ]
  },
  {
   "cell_type": "markdown",
   "metadata": {},
   "source": [
    "### Analysis Target\n",
    "* Label: human OR bot\n",
    "* Language: English"
   ]
  },
  {
   "cell_type": "code",
   "execution_count": 8,
   "metadata": {
    "scrolled": true
   },
   "outputs": [
    {
     "name": "stdout",
     "output_type": "stream",
     "text": [
      "human & en 302796\n",
      "bot & en 310917\n"
     ]
    },
    {
     "name": "stderr",
     "output_type": "stream",
     "text": [
      "100%|██████████| 613713/613713 [00:00<00:00, 1205975.34it/s]\n",
      "100%|██████████| 613713/613713 [00:09<00:00, 63682.23it/s]\n"
     ]
    },
    {
     "name": "stdout",
     "output_type": "stream",
     "text": [
      "Total 613713\n"
     ]
    },
    {
     "data": {
      "text/html": [
       "<div>\n",
       "<style scoped>\n",
       "    .dataframe tbody tr th:only-of-type {\n",
       "        vertical-align: middle;\n",
       "    }\n",
       "\n",
       "    .dataframe tbody tr th {\n",
       "        vertical-align: top;\n",
       "    }\n",
       "\n",
       "    .dataframe thead th {\n",
       "        text-align: right;\n",
       "    }\n",
       "</style>\n",
       "<table border=\"1\" class=\"dataframe\">\n",
       "  <thead>\n",
       "    <tr style=\"text-align: right;\">\n",
       "      <th></th>\n",
       "      <th>text</th>\n",
       "      <th>is_retweet</th>\n",
       "      <th>label</th>\n",
       "      <th>created_at</th>\n",
       "    </tr>\n",
       "  </thead>\n",
       "  <tbody>\n",
       "    <tr>\n",
       "      <th>42</th>\n",
       "      <td>RT @curtmelonopoly: $AUPH If price stays in th...</td>\n",
       "      <td>True</td>\n",
       "      <td>human</td>\n",
       "      <td>2017-05-18 22:00:41</td>\n",
       "    </tr>\n",
       "    <tr>\n",
       "      <th>69</th>\n",
       "      <td>$WFM $SFM $UNFI$NGVC Natural GrocersI like it ...</td>\n",
       "      <td>False</td>\n",
       "      <td>human</td>\n",
       "      <td>2017-05-18 22:01:00</td>\n",
       "    </tr>\n",
       "    <tr>\n",
       "      <th>91</th>\n",
       "      <td>Check out $ATHN on ChartMill at https://t.co/N...</td>\n",
       "      <td>False</td>\n",
       "      <td>human</td>\n",
       "      <td>2017-05-18 22:01:25</td>\n",
       "    </tr>\n",
       "    <tr>\n",
       "      <th>92</th>\n",
       "      <td>Check out $AR on ChartMill at https://t.co/zlX...</td>\n",
       "      <td>False</td>\n",
       "      <td>human</td>\n",
       "      <td>2017-05-18 22:01:25</td>\n",
       "    </tr>\n",
       "    <tr>\n",
       "      <th>93</th>\n",
       "      <td>Check out $KMX on ChartMill at https://t.co/DX...</td>\n",
       "      <td>False</td>\n",
       "      <td>human</td>\n",
       "      <td>2017-05-18 22:01:25</td>\n",
       "    </tr>\n",
       "  </tbody>\n",
       "</table>\n",
       "</div>"
      ],
      "text/plain": [
       "                                                 text  is_retweet  label  \\\n",
       "42  RT @curtmelonopoly: $AUPH If price stays in th...        True  human   \n",
       "69  $WFM $SFM $UNFI$NGVC Natural GrocersI like it ...       False  human   \n",
       "91  Check out $ATHN on ChartMill at https://t.co/N...       False  human   \n",
       "92  Check out $AR on ChartMill at https://t.co/zlX...       False  human   \n",
       "93  Check out $KMX on ChartMill at https://t.co/DX...       False  human   \n",
       "\n",
       "             created_at  \n",
       "42  2017-05-18 22:00:41  \n",
       "69  2017-05-18 22:01:00  \n",
       "91  2017-05-18 22:01:25  \n",
       "92  2017-05-18 22:01:25  \n",
       "93  2017-05-18 22:01:25  "
      ]
     },
     "execution_count": 8,
     "metadata": {},
     "output_type": "execute_result"
    }
   ],
   "source": [
    "human_df = copy.copy(tweet_df[(tweet_df['user_id'].isin(human_user_ids))&(tweet_df['lang']=='en')])\n",
    "human_df['label'] = 'human'\n",
    "print('human & en', len(human_df))\n",
    "\n",
    "bot_df = copy.copy(tweet_df[(tweet_df['user_id'].isin(bot_user_ids))&(tweet_df['lang']=='en')])\n",
    "bot_df['label'] = 'bot'\n",
    "print('bot & en', len(bot_df))\n",
    "\n",
    "df = pd.concat([human_df, bot_df])\n",
    "df['is_retweet'] = df['retweeted_status_id'].progress_apply(lambda x: x!=0)\n",
    "df = df[['text', 'is_retweet', 'label', 'created_at']]\n",
    "df['created_at'] = df['created_at'].progress_apply(lambda x: \\\n",
    "    datetime.strftime(datetime.strptime(x, \"%a %b %d %H:%M:%S +0000 %Y\"), '%Y-%m-%d %H:%M:%S'))\n",
    "print('Total', len(df))\n",
    "df.head()"
   ]
  },
  {
   "cell_type": "markdown",
   "metadata": {},
   "source": [
    "### Drop duplicates"
   ]
  },
  {
   "cell_type": "code",
   "execution_count": 9,
   "metadata": {},
   "outputs": [
    {
     "name": "stdout",
     "output_type": "stream",
     "text": [
      "Dropped 327314\n"
     ]
    }
   ],
   "source": [
    "df.sort_values(by=['created_at'], ascending=True, inplace=True) # 시간 순서대로 정렬\n",
    "original_len = len(df)\n",
    "\n",
    "df.drop_duplicates(['text'], keep='first', inplace=True) # 중복된 내용의 text가 존재할 때 가장 이른 시간에 발생한 텍스트만 남기고 삭제\n",
    "print('Dropped {}'.format(original_len - len(df)))\n",
    "original_len = len(df)"
   ]
  },
  {
   "cell_type": "markdown",
   "metadata": {},
   "source": [
    "Class imbalance exists"
   ]
  },
  {
   "cell_type": "code",
   "execution_count": 10,
   "metadata": {},
   "outputs": [
    {
     "name": "stdout",
     "output_type": "stream",
     "text": [
      "human: 238257 (83.19%)\n",
      "bot: 48142 (16.81%)\n"
     ]
    }
   ],
   "source": [
    "for label in df['label'].unique():\n",
    "    print('{}: {} ({:.2f}%)'.format(label, len(df[(df['label']==label)]), 100*len(df[(df['label']==label)])/len(df)))"
   ]
  },
  {
   "cell_type": "markdown",
   "metadata": {},
   "source": [
    "(Bot일수록 retweet 개수가 많다는 편향성이 있으나, retweet을 제거할 시 사용할 수 있는 데이터셋의 수가 너무 적어지기 때문에 제거하지 않기로 결정함. 본 연구에서는 Retweet 여부와 관계없이 주어진 text만을 보고 human/bot을 분류하고자 함.)"
   ]
  },
  {
   "cell_type": "code",
   "execution_count": 11,
   "metadata": {},
   "outputs": [
    {
     "name": "stdout",
     "output_type": "stream",
     "text": [
      "Retweet of human: 30.84\n",
      "Retweet of bot: 97.54\n",
      "Number of non-retweet texts of bot: 1186\n"
     ]
    }
   ],
   "source": [
    "for label in df['label'].unique():\n",
    "    print('Retweet of {}: {:.2f}'.format(label, 100*len(df[(df['label']==label)&(df['is_retweet']==True)])/len(df[(df['label']==label)])))\n",
    "    \n",
    "print('Number of non-retweet texts of bot:', len(df[(df['is_retweet']==False)&(df['label']=='bot')]))"
   ]
  },
  {
   "cell_type": "markdown",
   "metadata": {},
   "source": [
    "트윗의 월별/label별 분포"
   ]
  },
  {
   "cell_type": "code",
   "execution_count": 12,
   "metadata": {},
   "outputs": [
    {
     "data": {
      "image/png": "[encoded data removed]",
      "text/plain": [
       "<Figure size 432x288 with 1 Axes>"
      ]
     },
     "metadata": {
      "needs_background": "light"
     },
     "output_type": "display_data"
    }
   ],
   "source": [
    "df['yyyymm'] = df['created_at'].apply(lambda x: x[:4]+x[5:7])\n",
    "ax = sns.countplot(x=\"yyyymm\", hue=\"label\", data=df)"
   ]
  },
  {
   "cell_type": "markdown",
   "metadata": {},
   "source": [
    "Dataset for classification task"
   ]
  },
  {
   "cell_type": "code",
   "execution_count": 13,
   "metadata": {},
   "outputs": [
    {
     "name": "stdout",
     "output_type": "stream",
     "text": [
      "Created /media/dmlab/My Passport/DATA/fin_tweet_spam/data/tweets_imbalanced_286399.csv\n"
     ]
    }
   ],
   "source": [
    "filepath = os.path.join(save_dir, 'tweets_imbalanced_{}.csv'.format(len(df)))\n",
    "df.to_csv(filepath, index=False)\n",
    "print('Created {}'.format(filepath))"
   ]
  }
 ],
 "metadata": {
  "kernelspec": {
   "display_name": "Python 3 (ipykernel)",
   "language": "python",
   "name": "python3"
  },
  "language_info": {
   "codemirror_mode": {
    "name": "ipython",
    "version": 3
   },
   "file_extension": ".py",
   "mimetype": "text/x-python",
   "name": "python",
   "nbconvert_exporter": "python",
   "pygments_lexer": "ipython3",
   "version": "3.8.5"
  }
 },
 "nbformat": 4,
 "nbformat_minor": 5
}
