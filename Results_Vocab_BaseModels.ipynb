{
 "cells": [
  {
   "cell_type": "code",
   "execution_count": 1,
   "metadata": {},
   "outputs": [],
   "source": [
    "import os, re, html\n",
    "import pandas as pd\n",
    "from tqdm import tqdm"
   ]
  },
  {
   "cell_type": "code",
   "execution_count": 2,
   "metadata": {},
   "outputs": [],
   "source": [
    "company_filepath = os.path.join('C:\\DATA\\ComBERT\\data', 'company_info_sec_cik_mapper_12057_20220802.csv')"
   ]
  },
  {
   "cell_type": "code",
   "execution_count": 3,
   "metadata": {},
   "outputs": [
    {
     "data": {
      "text/html": [
       "<div>\n",
       "<style scoped>\n",
       "    .dataframe tbody tr th:only-of-type {\n",
       "        vertical-align: middle;\n",
       "    }\n",
       "\n",
       "    .dataframe tbody tr th {\n",
       "        vertical-align: top;\n",
       "    }\n",
       "\n",
       "    .dataframe thead th {\n",
       "        text-align: right;\n",
       "    }\n",
       "</style>\n",
       "<table border=\"1\" class=\"dataframe\">\n",
       "  <thead>\n",
       "    <tr style=\"text-align: right;\">\n",
       "      <th></th>\n",
       "      <th>CIK</th>\n",
       "      <th>Ticker</th>\n",
       "      <th>Name</th>\n",
       "      <th>Exchange</th>\n",
       "    </tr>\n",
       "  </thead>\n",
       "  <tbody>\n",
       "    <tr>\n",
       "      <th>0</th>\n",
       "      <td>1750</td>\n",
       "      <td>AIR</td>\n",
       "      <td>Aar Corp</td>\n",
       "      <td>NYSE</td>\n",
       "    </tr>\n",
       "    <tr>\n",
       "      <th>1</th>\n",
       "      <td>1800</td>\n",
       "      <td>ABT</td>\n",
       "      <td>Abbott Laboratories</td>\n",
       "      <td>NYSE</td>\n",
       "    </tr>\n",
       "    <tr>\n",
       "      <th>2</th>\n",
       "      <td>1961</td>\n",
       "      <td>WDDD</td>\n",
       "      <td>Worlds Inc</td>\n",
       "      <td>OTC</td>\n",
       "    </tr>\n",
       "    <tr>\n",
       "      <th>3</th>\n",
       "      <td>2098</td>\n",
       "      <td>ACU</td>\n",
       "      <td>Acme United Corp</td>\n",
       "      <td>NYSE</td>\n",
       "    </tr>\n",
       "    <tr>\n",
       "      <th>4</th>\n",
       "      <td>2178</td>\n",
       "      <td>AE</td>\n",
       "      <td>Adams Resources &amp; Energy, Inc.</td>\n",
       "      <td>NYSE</td>\n",
       "    </tr>\n",
       "  </tbody>\n",
       "</table>\n",
       "</div>"
      ],
      "text/plain": [
       "    CIK Ticker                            Name Exchange\n",
       "0  1750    AIR                        Aar Corp     NYSE\n",
       "1  1800    ABT             Abbott Laboratories     NYSE\n",
       "2  1961   WDDD                      Worlds Inc      OTC\n",
       "3  2098    ACU                Acme United Corp     NYSE\n",
       "4  2178     AE  Adams Resources & Energy, Inc.     NYSE"
      ]
     },
     "execution_count": 3,
     "metadata": {},
     "output_type": "execute_result"
    }
   ],
   "source": [
    "company_df = pd.read_csv(company_filepath)\n",
    "company_df = company_df.astype({\"CIK\": int}, errors='raise')\n",
    "company_df.head()"
   ]
  },
  {
   "cell_type": "code",
   "execution_count": 4,
   "metadata": {},
   "outputs": [
    {
     "data": {
      "text/plain": [
       "['amazon com inc', 'amazon com', 'amazon']"
      ]
     },
     "execution_count": 4,
     "metadata": {},
     "output_type": "execute_result"
    }
   ],
   "source": [
    "def subnames_of_company_name(fullname): \n",
    "    strings = fullname.split(' ')\n",
    "    subnames = [' '.join(strings[:i+1]) for i in range(len(strings))] # ['amazon', 'amazon com', 'amazon com inc' ]\n",
    "    subnames.reverse() # ['amazon com inc', 'amazon com', 'amazon']\n",
    "    subnames = [item.strip() for item in subnames if item.strip() != '']\n",
    "    return subnames\n",
    "\n",
    "fullname = 'Amazon Com Inc'.lower()\n",
    "subnames = subnames_of_company_name(fullname)\n",
    "subnames"
   ]
  },
  {
   "cell_type": "code",
   "execution_count": 5,
   "metadata": {
    "scrolled": true
   },
   "outputs": [
    {
     "name": "stdout",
     "output_type": "stream",
     "text": [
      "28024 ['phillips', 'airbnb, inc.', 'us xpress enterprises', 'zw', 'tmc', 'blackstar enterprise group,', 'northern trust', 'altamont pharma acquisition', 'bbx', 'accustem sciences inc.']\n"
     ]
    }
   ],
   "source": [
    "subnames_for_all_companies = []\n",
    "for fullname in company_df['Name'].values:\n",
    "    subnames_for_all_companies.extend(subnames_of_company_name(fullname.lower()))\n",
    "\n",
    "subnames_for_all_companies = list(set(subnames_for_all_companies)) # unique subnames    \n",
    "print(len(subnames_for_all_companies), subnames_for_all_companies[:10])"
   ]
  },
  {
   "cell_type": "markdown",
   "metadata": {},
   "source": [
    "### The number of company names in each model's vocabulary\n",
    "* Araci's FinBERT is a model post-trained on BERT, not trained from scratch; thus, its vocabulary is identical to that of BERT."
   ]
  },
  {
   "cell_type": "code",
   "execution_count": 6,
   "metadata": {},
   "outputs": [],
   "source": [
    "def get_vocabs(filepath):\n",
    "    with open(filepath, encoding='utf8') as var:\n",
    "        lines = var.readlines()\n",
    "\n",
    "    return [item.strip() for item in lines]\n",
    "\n",
    "def intersection(lst1, lst2):\n",
    "    return list(set(lst1) & set(lst2))"
   ]
  },
  {
   "cell_type": "code",
   "execution_count": 7,
   "metadata": {},
   "outputs": [
    {
     "name": "stdout",
     "output_type": "stream",
     "text": [
      "The total number of tokens in BERT_vocab.txt is 30522.\n",
      "The number of overlapping tokens is 1858.\n"
     ]
    }
   ],
   "source": [
    "filepath = os.path.join('vocab', 'BERT_vocab.txt')\n",
    "\n",
    "vocabs = get_vocabs(filepath)\n",
    "print('The total number of tokens in {} is {}.'.format(os.path.basename(filepath), len(vocabs)))\n",
    "\n",
    "overlap = intersection(vocabs, subnames_for_all_companies)\n",
    "print('The number of overlapping tokens is {}.'.format(len(overlap)))"
   ]
  },
  {
   "cell_type": "code",
   "execution_count": 8,
   "metadata": {},
   "outputs": [
    {
     "name": "stdout",
     "output_type": "stream",
     "text": [
      "The total number of tokens in Yang_vocab.txt is 30873.\n",
      "The number of overlapping tokens is 1822.\n"
     ]
    }
   ],
   "source": [
    "filepath = os.path.join('vocab', 'Yang_vocab.txt')\n",
    "\n",
    "vocabs = get_vocabs(filepath)\n",
    "print('The total number of tokens in {} is {}.'.format(os.path.basename(filepath), len(vocabs)))\n",
    "\n",
    "overlap = intersection(vocabs, subnames_for_all_companies)\n",
    "print('The number of overlapping tokens is {}.'.format(len(overlap)))"
   ]
  },
  {
   "cell_type": "code",
   "execution_count": 9,
   "metadata": {},
   "outputs": [
    {
     "name": "stdout",
     "output_type": "stream",
     "text": [
      "The total number of tokens in SECBERT_vocab.txt is 30000.\n",
      "The number of overlapping tokens is 2446.\n"
     ]
    }
   ],
   "source": [
    "filepath = os.path.join('vocab', 'SECBERT_vocab.txt')\n",
    "\n",
    "vocabs = get_vocabs(filepath)\n",
    "print('The total number of tokens in {} is {}.'.format(os.path.basename(filepath), len(vocabs)))\n",
    "\n",
    "overlap = intersection(vocabs, subnames_for_all_companies)\n",
    "print('The number of overlapping tokens is {}.'.format(len(overlap)))"
   ]
  }
 ],
 "metadata": {
  "kernelspec": {
   "display_name": "Python 3 (ipykernel)",
   "language": "python",
   "name": "python3"
  },
  "language_info": {
   "codemirror_mode": {
    "name": "ipython",
    "version": 3
   },
   "file_extension": ".py",
   "mimetype": "text/x-python",
   "name": "python",
   "nbconvert_exporter": "python",
   "pygments_lexer": "ipython3",
   "version": "3.8.5"
  }
 },
 "nbformat": 4,
 "nbformat_minor": 4
}
